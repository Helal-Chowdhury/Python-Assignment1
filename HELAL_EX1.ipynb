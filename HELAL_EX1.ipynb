{
 "cells": [
  {
   "cell_type": "markdown",
   "id": "4c2b4973",
   "metadata": {},
   "source": [
    "# Summary: Study of basics of Python data types, data structure"
   ]
  },
  {
   "cell_type": "code",
   "execution_count": 289,
   "id": "d4724759",
   "metadata": {},
   "outputs": [
    {
     "name": "stdout",
     "output_type": "stream",
     "text": [
      "['__radd__', '__eq__', '__mul__', '__rsub__', '__rmul__', '__ne__', '__bool__', '__pos__', '__pow__', '__float__', '__round__', '__gt__', '__rdivmod__', '__le__', '__ge__', '__str__', '__trunc__', 'real', '__reduce_ex__', '__subclasshook__', 'conjugate', '__setattr__', '__init__', '__rfloordiv__', '__new__', '__add__', '__getnewargs__', '__neg__', '__rtruediv__', '__mod__', '__rpow__', '__truediv__', '__dir__', '__delattr__', '__format__', '__init_subclass__', '__hash__', '__divmod__', '__repr__', '__rmod__', '__class__', 'imag', '__getattribute__', '__abs__', '__lt__', '__sizeof__', '__int__', '__doc__', '__reduce__', '__sub__', '__floordiv__']\n"
     ]
    }
   ],
   "source": [
    "# common magic functions between int and float classes\n",
    "dir_int=dir(int)\n",
    "dir_float=dir(float)\n",
    "print(list(set(dir_int) & set(dir_float)))\n"
   ]
  },
  {
   "cell_type": "markdown",
   "id": "7d247598",
   "metadata": {},
   "source": [
    "# integer,float,string"
   ]
  },
  {
   "cell_type": "markdown",
   "id": "119ec1e3",
   "metadata": {},
   "source": [
    "## int constructor methods"
   ]
  },
  {
   "cell_type": "markdown",
   "id": "d0c49f8a",
   "metadata": {},
   "source": [
    "### Building with python magic functions and operator magic function of \"int\" class"
   ]
  },
  {
   "cell_type": "raw",
   "id": "173dae8b",
   "metadata": {},
   "source": [
    "The purpose of this implementation is to view the combination of usage of\n",
    "data type and operator magic functions: example: implementation of this built-in function using python magic functions:abs((x+y)**n *(-m)-s)"
   ]
  },
  {
   "cell_type": "markdown",
   "id": "7ef1d10d",
   "metadata": {},
   "source": [
    "### Building with python built-in function of \"int\" class"
   ]
  },
  {
   "cell_type": "code",
   "execution_count": 366,
   "id": "efa04d50",
   "metadata": {},
   "outputs": [
    {
     "data": {
      "text/plain": [
       "75"
      ]
     },
     "execution_count": 366,
     "metadata": {},
     "output_type": "execute_result"
    }
   ],
   "source": [
    "a=2\n",
    "b=4\n",
    "n=2\n",
    "m=2\n",
    "s=3\n",
    "# python built-in function implementation\n",
    "result=abs((a+b)**n *(-m)-s)\n",
    "result"
   ]
  },
  {
   "cell_type": "markdown",
   "id": "60389cdb",
   "metadata": {},
   "source": [
    "### Building with python magic functions and operator magic function of \"int\" class"
   ]
  },
  {
   "cell_type": "code",
   "execution_count": 367,
   "id": "3155777c",
   "metadata": {},
   "outputs": [
    {
     "data": {
      "text/plain": [
       "75"
      ]
     },
     "execution_count": 367,
     "metadata": {},
     "output_type": "execute_result"
    }
   ],
   "source": [
    "# python magic function implementation\n",
    "int.__add__(a,b).__pow__(2).__mul__(-m).__sub__(3).__abs__()"
   ]
  },
  {
   "cell_type": "code",
   "execution_count": 368,
   "id": "f583ac48",
   "metadata": {},
   "outputs": [
    {
     "data": {
      "text/plain": [
       "False"
      ]
     },
     "execution_count": 368,
     "metadata": {},
     "output_type": "execute_result"
    }
   ],
   "source": [
    "# added \"==\" operator magic function\n",
    "int.__add__(a,b).__pow__(2).__mul__(-2).__sub__(4).__abs__().__eq__(35)"
   ]
  },
  {
   "cell_type": "code",
   "execution_count": 369,
   "id": "25464a30",
   "metadata": {},
   "outputs": [
    {
     "data": {
      "text/plain": [
       "False"
      ]
     },
     "execution_count": 369,
     "metadata": {},
     "output_type": "execute_result"
    }
   ],
   "source": [
    "# applied \"<=\" operator magic function\n",
    "int.__add__(a,b).__pow__(2).__mul__(-2).__sub__(4).__abs__().__le__(35)"
   ]
  },
  {
   "cell_type": "code",
   "execution_count": 370,
   "id": "d13bfd1b",
   "metadata": {},
   "outputs": [
    {
     "data": {
      "text/plain": [
       "True"
      ]
     },
     "execution_count": 370,
     "metadata": {},
     "output_type": "execute_result"
    }
   ],
   "source": [
    "# applied \">=\" operator magic function\n",
    "int.__add__(a,b).__pow__(2).__mul__(-2).__sub__(4).__abs__().__ge__(35)"
   ]
  },
  {
   "cell_type": "code",
   "execution_count": 371,
   "id": "983edfa0",
   "metadata": {},
   "outputs": [
    {
     "name": "stdout",
     "output_type": "stream",
     "text": [
      "Binary Representation of given number: 0b10000\n",
      "bit length is: 5\n"
     ]
    }
   ],
   "source": [
    "# bitlength\n",
    "n = 16\n",
    "print(\"Binary Representation of given number:\",bin(n))\n",
    "#n.bit_length()\n",
    "r=n.bit_length()\n",
    "print(\"bit length is:\",r)"
   ]
  },
  {
   "cell_type": "markdown",
   "id": "f0fb22dd",
   "metadata": {},
   "source": [
    "## float constructor methods"
   ]
  },
  {
   "cell_type": "markdown",
   "id": "35a0ed09",
   "metadata": {},
   "source": [
    "### building with python built-in function"
   ]
  },
  {
   "cell_type": "code",
   "execution_count": 372,
   "id": "b4afa223",
   "metadata": {},
   "outputs": [],
   "source": [
    "x=3.5\n",
    "y=4.3\n",
    "n=2\n",
    "m=2.0\n",
    "s=3.0"
   ]
  },
  {
   "cell_type": "code",
   "execution_count": 373,
   "id": "cfd1c09c",
   "metadata": {},
   "outputs": [
    {
     "data": {
      "text/plain": [
       "124.67999999999999"
      ]
     },
     "execution_count": 373,
     "metadata": {},
     "output_type": "execute_result"
    }
   ],
   "source": [
    "result=abs((x+y)**n *(-m)-s)\n",
    "result"
   ]
  },
  {
   "cell_type": "markdown",
   "id": "a83c4528",
   "metadata": {},
   "source": [
    "### Building with python magic functions and operator magic function of \"float\" class"
   ]
  },
  {
   "cell_type": "code",
   "execution_count": 374,
   "id": "8cb4d348",
   "metadata": {},
   "outputs": [
    {
     "data": {
      "text/plain": [
       "124.67999999999999"
      ]
     },
     "execution_count": 374,
     "metadata": {},
     "output_type": "execute_result"
    }
   ],
   "source": [
    "float.__add__(x,y).__pow__(2).__mul__(-2.0).__sub__(3.0).__abs__()"
   ]
  },
  {
   "cell_type": "code",
   "execution_count": 375,
   "id": "d7aebceb",
   "metadata": {},
   "outputs": [
    {
     "data": {
      "text/plain": [
       "62.0"
      ]
     },
     "execution_count": 375,
     "metadata": {},
     "output_type": "execute_result"
    }
   ],
   "source": [
    "float.__add__(x,y).__pow__(2).__mul__(-2.0).__sub__(3.0).__abs__().__floordiv__(2)"
   ]
  },
  {
   "cell_type": "code",
   "execution_count": 376,
   "id": "bc31932f",
   "metadata": {},
   "outputs": [
    {
     "data": {
      "text/plain": [
       "125"
      ]
     },
     "execution_count": 376,
     "metadata": {},
     "output_type": "execute_result"
    }
   ],
   "source": [
    "float.__add__(x,y).__pow__(2).__mul__(-2.0).__sub__(3.0).__abs__().__round__()"
   ]
  },
  {
   "cell_type": "code",
   "execution_count": 377,
   "id": "c6e01ee2",
   "metadata": {},
   "outputs": [
    {
     "data": {
      "text/plain": [
       "0.6799999999999926"
      ]
     },
     "execution_count": 377,
     "metadata": {},
     "output_type": "execute_result"
    }
   ],
   "source": [
    "float.__add__(x,y).__pow__(2).__mul__(-2.0).__sub__(3.0).__abs__().__mod__(2)"
   ]
  },
  {
   "cell_type": "code",
   "execution_count": 378,
   "id": "50b8b077",
   "metadata": {},
   "outputs": [
    {
     "data": {
      "text/plain": [
       "31.169999999999998"
      ]
     },
     "execution_count": 378,
     "metadata": {},
     "output_type": "execute_result"
    }
   ],
   "source": [
    "float.__add__(x,y).__pow__(2).__mul__(-2.0).__sub__(3.0).__abs__().__truediv__(4)"
   ]
  },
  {
   "cell_type": "markdown",
   "id": "30341e94",
   "metadata": {},
   "source": [
    "## string constructor methods"
   ]
  },
  {
   "cell_type": "markdown",
   "id": "fde03d93",
   "metadata": {},
   "source": [
    "### Building with python magic functions and operator magic function of \"string\" class"
   ]
  },
  {
   "cell_type": "code",
   "execution_count": 379,
   "id": "9769d10d",
   "metadata": {},
   "outputs": [
    {
     "data": {
      "text/plain": [
       "'HelloWorld'"
      ]
     },
     "execution_count": 379,
     "metadata": {},
     "output_type": "execute_result"
    }
   ],
   "source": [
    "p=str.__add__(\"Hello\",\"World\")\n",
    "p"
   ]
  },
  {
   "cell_type": "code",
   "execution_count": 380,
   "id": "9b7b7289",
   "metadata": {},
   "outputs": [],
   "source": [
    "# string concatanation\n",
    "p1=str.__add__(\"Hello\",\"\")\n",
    "p2=\" World\"\n",
    "p3=str.__add__(p1,p2)\n"
   ]
  },
  {
   "cell_type": "code",
   "execution_count": 381,
   "id": "8c933655",
   "metadata": {},
   "outputs": [
    {
     "data": {
      "text/plain": [
       "False"
      ]
     },
     "execution_count": 381,
     "metadata": {},
     "output_type": "execute_result"
    }
   ],
   "source": [
    "#islower()\n",
    "p=str.__add__(p1,p2).islower()\n",
    "p"
   ]
  },
  {
   "cell_type": "code",
   "execution_count": 382,
   "id": "5c223e1f",
   "metadata": {},
   "outputs": [
    {
     "data": {
      "text/plain": [
       "'HELLO WORLD'"
      ]
     },
     "execution_count": 382,
     "metadata": {},
     "output_type": "execute_result"
    }
   ],
   "source": [
    "# upper()\n",
    "str.__add__(p1,p2).upper()"
   ]
  },
  {
   "cell_type": "code",
   "execution_count": 383,
   "id": "43747667",
   "metadata": {},
   "outputs": [
    {
     "data": {
      "text/plain": [
       "11"
      ]
     },
     "execution_count": 383,
     "metadata": {},
     "output_type": "execute_result"
    }
   ],
   "source": [
    "# length of string: len\n",
    "str.__add__(p1,p2).__len__()"
   ]
  },
  {
   "cell_type": "code",
   "execution_count": 384,
   "id": "b366d516",
   "metadata": {},
   "outputs": [
    {
     "data": {
      "text/plain": [
       "True"
      ]
     },
     "execution_count": 384,
     "metadata": {},
     "output_type": "execute_result"
    }
   ],
   "source": [
    "# endswith space?\n",
    "str.__add__(p1,p2).endswith(\"\")"
   ]
  },
  {
   "cell_type": "code",
   "execution_count": 385,
   "id": "f1b18a31",
   "metadata": {},
   "outputs": [
    {
     "data": {
      "text/plain": [
       "True"
      ]
     },
     "execution_count": 385,
     "metadata": {},
     "output_type": "execute_result"
    }
   ],
   "source": [
    "# endswith d in the word world?\n",
    "str.__add__(p1,p2).endswith(\"d\")"
   ]
  },
  {
   "cell_type": "code",
   "execution_count": 386,
   "id": "90725953",
   "metadata": {},
   "outputs": [
    {
     "data": {
      "text/plain": [
       "False"
      ]
     },
     "execution_count": 386,
     "metadata": {},
     "output_type": "execute_result"
    }
   ],
   "source": [
    "# endswith world ward with \".\"?\n",
    "str.__add__(p1,p2).endswith(\".\")"
   ]
  },
  {
   "cell_type": "code",
   "execution_count": 387,
   "id": "4ee0b977",
   "metadata": {},
   "outputs": [
    {
     "data": {
      "text/plain": [
       "['Hello', 'World']"
      ]
     },
     "execution_count": 387,
     "metadata": {},
     "output_type": "execute_result"
    }
   ],
   "source": [
    "# split\n",
    "str.__add__(p1,p2).split()"
   ]
  },
  {
   "cell_type": "code",
   "execution_count": 388,
   "id": "7375eaa2",
   "metadata": {},
   "outputs": [
    {
     "data": {
      "text/plain": [
       "['Hello', 'World']"
      ]
     },
     "execution_count": 388,
     "metadata": {},
     "output_type": "execute_result"
    }
   ],
   "source": [
    "list1=str.__add__(p1,p2).split()\n",
    "list1"
   ]
  },
  {
   "cell_type": "code",
   "execution_count": 389,
   "id": "c73e65eb",
   "metadata": {},
   "outputs": [
    {
     "name": "stdout",
     "output_type": "stream",
     "text": [
      "HelloWorld\n"
     ]
    }
   ],
   "source": [
    "# join\n",
    "print(\"\".join(list1))"
   ]
  },
  {
   "cell_type": "code",
   "execution_count": 390,
   "id": "62f0c896",
   "metadata": {},
   "outputs": [
    {
     "data": {
      "text/plain": [
       "True"
      ]
     },
     "execution_count": 390,
     "metadata": {},
     "output_type": "execute_result"
    }
   ],
   "source": [
    "#contain\n",
    "list1.__contains__(\"Hello\")"
   ]
  },
  {
   "cell_type": "code",
   "execution_count": 391,
   "id": "e8fa0166",
   "metadata": {},
   "outputs": [
    {
     "data": {
      "text/plain": [
       "False"
      ]
     },
     "execution_count": 391,
     "metadata": {},
     "output_type": "execute_result"
    }
   ],
   "source": [
    "list1.__contains__(\"H\")"
   ]
  },
  {
   "cell_type": "markdown",
   "id": "6c67e944",
   "metadata": {},
   "source": [
    "# list,tuple,dictionary,set"
   ]
  },
  {
   "cell_type": "markdown",
   "id": "582e8c08",
   "metadata": {},
   "source": [
    "## List"
   ]
  },
  {
   "cell_type": "code",
   "execution_count": 271,
   "id": "85376816",
   "metadata": {},
   "outputs": [
    {
     "name": "stdout",
     "output_type": "stream",
     "text": [
      "[10, 20]\n"
     ]
    }
   ],
   "source": [
    "x = []\n",
    "# same as list()\n",
    "# x=list()\n",
    "\n",
    "x.append(10)\n",
    "y = x.append(20)\n",
    "\n",
    "print(x)\n",
    "#print(y)"
   ]
  },
  {
   "cell_type": "code",
   "execution_count": 272,
   "id": "7ac1baa3",
   "metadata": {},
   "outputs": [
    {
     "data": {
      "text/plain": [
       "1"
      ]
     },
     "execution_count": 272,
     "metadata": {},
     "output_type": "execute_result"
    }
   ],
   "source": [
    "# index of value 20\n",
    "x.index(20)"
   ]
  },
  {
   "cell_type": "code",
   "execution_count": 273,
   "id": "196d8b78",
   "metadata": {},
   "outputs": [
    {
     "name": "stdout",
     "output_type": "stream",
     "text": [
      "before reverse: [10, 20]\n",
      "after reverse: [20, 10]\n"
     ]
    }
   ],
   "source": [
    "# reverse the list element\n",
    "print(\"before reverse:\",x)\n",
    "x.reverse()\n",
    "print(\"after reverse:\",x)\n"
   ]
  },
  {
   "cell_type": "code",
   "execution_count": 274,
   "id": "470eaf3f",
   "metadata": {},
   "outputs": [
    {
     "name": "stdout",
     "output_type": "stream",
     "text": [
      "before deletion: [20, 10]\n",
      "after deletion: [20]\n"
     ]
    }
   ],
   "source": [
    "# delete item giving index value\n",
    "print(\"before deletion:\",x)\n",
    "x.__delitem__(1)\n",
    "print(\"after deletion:\",x)"
   ]
  },
  {
   "cell_type": "code",
   "execution_count": 276,
   "id": "22aae8ec",
   "metadata": {},
   "outputs": [],
   "source": [
    "# creation of two lists\n",
    "l1=[100,200]\n",
    "l2=[300,400]"
   ]
  },
  {
   "cell_type": "code",
   "execution_count": 277,
   "id": "5719a8d1",
   "metadata": {},
   "outputs": [
    {
     "data": {
      "text/plain": [
       "[100, 200, 300, 400]"
      ]
     },
     "execution_count": 277,
     "metadata": {},
     "output_type": "execute_result"
    }
   ],
   "source": [
    "# concateniting lists\n",
    "L=l1.__add__(l2)\n",
    "L"
   ]
  },
  {
   "cell_type": "code",
   "execution_count": 261,
   "id": "0e2b7228",
   "metadata": {},
   "outputs": [
    {
     "data": {
      "text/plain": [
       "[0, 1, 2, 3]"
      ]
     },
     "execution_count": 261,
     "metadata": {},
     "output_type": "execute_result"
    }
   ],
   "source": [
    "idx=[]\n",
    "for index,value in enumerate(L):\n",
    "    idx.append(index)\n",
    "idx"
   ]
  },
  {
   "cell_type": "code",
   "execution_count": 249,
   "id": "e96a84fe",
   "metadata": {},
   "outputs": [
    {
     "data": {
      "text/plain": [
       "[100, 300, 400]"
      ]
     },
     "execution_count": 249,
     "metadata": {},
     "output_type": "execute_result"
    }
   ],
   "source": [
    "index=1\n",
    "L.__delitem__(index)\n",
    "L"
   ]
  },
  {
   "cell_type": "markdown",
   "id": "6ee0e4c5",
   "metadata": {},
   "source": [
    "## Tuple"
   ]
  },
  {
   "cell_type": "raw",
   "id": "6cf77908",
   "metadata": {},
   "source": [
    "t=tuple()\n",
    "t.append(1)\n",
    "TypeError: can only concatenate tuple (not \"int\") to tuple\n",
    "You can't add elements to a tuple because of their immutable property. There's no append() or extend() method for tuples"
   ]
  },
  {
   "cell_type": "code",
   "execution_count": 310,
   "id": "2bf55721",
   "metadata": {},
   "outputs": [
    {
     "name": "stdout",
     "output_type": "stream",
     "text": [
      "t1 is tuple: (1, 2, 4)\n"
     ]
    }
   ],
   "source": [
    "# first tuple\n",
    "t1=(1,2,4,)\n",
    "type(t1)\n",
    "print(\"t1 is tuple:\",t1)"
   ]
  },
  {
   "cell_type": "code",
   "execution_count": 311,
   "id": "95093f38",
   "metadata": {},
   "outputs": [
    {
     "data": {
      "text/plain": [
       "(7, 8)"
      ]
     },
     "execution_count": 311,
     "metadata": {},
     "output_type": "execute_result"
    }
   ],
   "source": [
    "# second tuple\n",
    "t2=(7,8)\n",
    "t2"
   ]
  },
  {
   "cell_type": "code",
   "execution_count": 312,
   "id": "b1e25397",
   "metadata": {},
   "outputs": [
    {
     "data": {
      "text/plain": [
       "(1, 2, 4, 7, 8)"
      ]
     },
     "execution_count": 312,
     "metadata": {},
     "output_type": "execute_result"
    }
   ],
   "source": [
    "# concatenation t1 and t2\n",
    "t3=t1.__add__(t2)\n",
    "t3"
   ]
  },
  {
   "cell_type": "code",
   "execution_count": 313,
   "id": "0c61e074",
   "metadata": {},
   "outputs": [
    {
     "data": {
      "text/plain": [
       "5"
      ]
     },
     "execution_count": 313,
     "metadata": {},
     "output_type": "execute_result"
    }
   ],
   "source": [
    "#length of tuple\n",
    "tl=t3.__len__()\n",
    "tl\n"
   ]
  },
  {
   "cell_type": "code",
   "execution_count": 314,
   "id": "d3975a10",
   "metadata": {},
   "outputs": [
    {
     "data": {
      "text/plain": [
       "2"
      ]
     },
     "execution_count": 314,
     "metadata": {},
     "output_type": "execute_result"
    }
   ],
   "source": [
    "# access of element using index\n",
    "item=t1.__getitem__(1)\n",
    "item"
   ]
  },
  {
   "cell_type": "markdown",
   "id": "144ec4a7",
   "metadata": {},
   "source": [
    "## Dictionery"
   ]
  },
  {
   "cell_type": "code",
   "execution_count": 322,
   "id": "f8e62b29",
   "metadata": {},
   "outputs": [
    {
     "data": {
      "text/plain": [
       "{'name': 'helal', 'Address': 'Espoo'}"
      ]
     },
     "execution_count": 322,
     "metadata": {},
     "output_type": "execute_result"
    }
   ],
   "source": [
    "d1=dict()\n",
    "#same as d1={}\n",
    "d1[\"name\"]=\"helal\"\n",
    "d1[\"Address\"]=\"Espoo\"\n",
    "d1"
   ]
  },
  {
   "cell_type": "code",
   "execution_count": 323,
   "id": "4ccdb5e2",
   "metadata": {},
   "outputs": [
    {
     "name": "stdout",
     "output_type": "stream",
     "text": [
      "keys: dict_keys(['name', 'Address'])\n",
      "values: dict_values(['helal', 'Espoo'])\n"
     ]
    }
   ],
   "source": [
    "print(\"keys:\",d1.keys())\n",
    "print(\"values:\",d1.values())"
   ]
  },
  {
   "cell_type": "code",
   "execution_count": 324,
   "id": "2c8249d6",
   "metadata": {},
   "outputs": [
    {
     "name": "stdout",
     "output_type": "stream",
     "text": [
      "Original: {'name': 'helal', 'Address': 'Espoo'}\n",
      "Copy version: {'name': 'helal', 'Address': 'Espoo'}\n"
     ]
    }
   ],
   "source": [
    "d2=d1.copy()\n",
    "print(\"Original:\",d1)\n",
    "print(\"Copy version:\",d2)\n",
    "# for future operation\n",
    "d3=d2.copy()"
   ]
  },
  {
   "cell_type": "code",
   "execution_count": 325,
   "id": "35430f47",
   "metadata": {},
   "outputs": [
    {
     "data": {
      "text/plain": [
       "'helal'"
      ]
     },
     "execution_count": 325,
     "metadata": {},
     "output_type": "execute_result"
    }
   ],
   "source": [
    "# get value of given key\n",
    "d1.__getitem__(\"name\")"
   ]
  },
  {
   "cell_type": "code",
   "execution_count": 326,
   "id": "69f6d7f6",
   "metadata": {},
   "outputs": [
    {
     "data": {
      "text/plain": [
       "{'name': 'helal', 'Address': 'Espoo'}"
      ]
     },
     "execution_count": 326,
     "metadata": {},
     "output_type": "execute_result"
    }
   ],
   "source": [
    "d1.__contains__(\"Address\")\n",
    "d1"
   ]
  },
  {
   "cell_type": "code",
   "execution_count": 327,
   "id": "a453f797",
   "metadata": {},
   "outputs": [
    {
     "name": "stdout",
     "output_type": "stream",
     "text": [
      "before pop operation: {'name': 'helal', 'Address': 'Espoo'}\n",
      "after pop operation: {'Address': 'Espoo'}\n"
     ]
    }
   ],
   "source": [
    "print(\"before pop operation:\",d2)\n",
    "d2.pop(\"name\")\n",
    "print(\"after pop operation:\",d2)"
   ]
  },
  {
   "cell_type": "code",
   "execution_count": 338,
   "id": "ddebabc7",
   "metadata": {},
   "outputs": [
    {
     "data": {
      "text/plain": [
       "{'name': 'helal', 'Address': 'Oulu'}"
      ]
     },
     "execution_count": 338,
     "metadata": {},
     "output_type": "execute_result"
    }
   ],
   "source": [
    "d3"
   ]
  },
  {
   "cell_type": "code",
   "execution_count": 339,
   "id": "1541e235",
   "metadata": {},
   "outputs": [
    {
     "data": {
      "text/plain": [
       "{'name': 'helal'}"
      ]
     },
     "execution_count": 339,
     "metadata": {},
     "output_type": "execute_result"
    }
   ],
   "source": [
    "# delete the last item of the dictionery\n",
    "d3.popitem()\n",
    "d3"
   ]
  },
  {
   "cell_type": "code",
   "execution_count": 340,
   "id": "dd23354d",
   "metadata": {},
   "outputs": [
    {
     "data": {
      "text/plain": [
       "{'name': 'helal'}"
      ]
     },
     "execution_count": 340,
     "metadata": {},
     "output_type": "execute_result"
    }
   ],
   "source": [
    "# copy\n",
    "d2=d1.copy()\n",
    "d2\n"
   ]
  },
  {
   "cell_type": "code",
   "execution_count": 341,
   "id": "788d7fb5",
   "metadata": {},
   "outputs": [
    {
     "data": {
      "text/plain": [
       "True"
      ]
     },
     "execution_count": 341,
     "metadata": {},
     "output_type": "execute_result"
    }
   ],
   "source": [
    "# checking equal\n",
    "d1.__eq__(d2)"
   ]
  },
  {
   "cell_type": "code",
   "execution_count": 342,
   "id": "24c7634f",
   "metadata": {},
   "outputs": [
    {
     "data": {
      "text/plain": [
       "True"
      ]
     },
     "execution_count": 342,
     "metadata": {},
     "output_type": "execute_result"
    }
   ],
   "source": [
    "# checking equal\n",
    "d1.__eq__(d3)"
   ]
  },
  {
   "cell_type": "code",
   "execution_count": 343,
   "id": "8fafe245",
   "metadata": {},
   "outputs": [
    {
     "data": {
      "text/plain": [
       "True"
      ]
     },
     "execution_count": 343,
     "metadata": {},
     "output_type": "execute_result"
    }
   ],
   "source": [
    "# checking equal\n",
    "d1.__eq__(d2)"
   ]
  },
  {
   "cell_type": "code",
   "execution_count": 346,
   "id": "74f76377",
   "metadata": {},
   "outputs": [
    {
     "data": {
      "text/plain": [
       "{'name': 'helal', 'Age': 45}"
      ]
     },
     "execution_count": 346,
     "metadata": {},
     "output_type": "execute_result"
    }
   ],
   "source": [
    "# adding item in d2\n",
    "d2[\"Age\"]=45\n",
    "d2"
   ]
  },
  {
   "cell_type": "code",
   "execution_count": 347,
   "id": "67826bfb",
   "metadata": {},
   "outputs": [
    {
     "name": "stdout",
     "output_type": "stream",
     "text": [
      "length of d2: 1\n",
      "length of d2: 2\n"
     ]
    }
   ],
   "source": [
    "print(\"length of d2:\",d1.__len__())\n",
    "print(\"length of d2:\",d2.__len__())"
   ]
  },
  {
   "cell_type": "code",
   "execution_count": 354,
   "id": "8c3a1c26",
   "metadata": {},
   "outputs": [
    {
     "name": "stdout",
     "output_type": "stream",
     "text": [
      "before update: {'name': 'helal', 'Address': 'Espoo'}\n",
      "after update: {'name': 'helal', 'Address': 'Oulu'}\n"
     ]
    }
   ],
   "source": [
    "d1=dict()\n",
    "#same as d1={}\n",
    "d1[\"name\"]=\"helal\"\n",
    "d1[\"Address\"]=\"Espoo\"\n",
    "d5=d1.copy()\n",
    "\n",
    "\n",
    "print(\"before update:\",d5)\n",
    "d4 = {'Address': 'Oulu'}\n",
    "d5.update(d4)\n",
    "print(\"after update:\",d5)"
   ]
  },
  {
   "cell_type": "markdown",
   "id": "3f8439bc",
   "metadata": {},
   "source": [
    "## Set"
   ]
  },
  {
   "cell_type": "code",
   "execution_count": 355,
   "id": "711a4a67",
   "metadata": {},
   "outputs": [
    {
     "data": {
      "text/plain": [
       "{2}"
      ]
     },
     "execution_count": 355,
     "metadata": {},
     "output_type": "execute_result"
    }
   ],
   "source": [
    "# adding value to the set\n",
    "s1=set()\n",
    "s1.add(2)\n",
    "s1"
   ]
  },
  {
   "cell_type": "code",
   "execution_count": 356,
   "id": "522fa1db",
   "metadata": {},
   "outputs": [
    {
     "data": {
      "text/plain": [
       "{1}"
      ]
     },
     "execution_count": 356,
     "metadata": {},
     "output_type": "execute_result"
    }
   ],
   "source": [
    "# intersection opration\n",
    "s1={1,2,3}\n",
    "s2={6,6,1}\n",
    "s1.__and__(s2)"
   ]
  },
  {
   "cell_type": "code",
   "execution_count": 357,
   "id": "05a80496",
   "metadata": {},
   "outputs": [
    {
     "data": {
      "text/plain": [
       "{2, 3, 6}"
      ]
     },
     "execution_count": 357,
     "metadata": {},
     "output_type": "execute_result"
    }
   ],
   "source": [
    "# xor operation:common and duplication element elemenation\n",
    "s1={1,2,3}\n",
    "s2={6,6,1}\n",
    "s1.__xor__(s2)"
   ]
  },
  {
   "cell_type": "code",
   "execution_count": 358,
   "id": "773ab99f",
   "metadata": {},
   "outputs": [
    {
     "data": {
      "text/plain": [
       "{2, 3}"
      ]
     },
     "execution_count": 358,
     "metadata": {},
     "output_type": "execute_result"
    }
   ],
   "source": [
    "r=s1.__sub__(s2)\n",
    "r"
   ]
  },
  {
   "cell_type": "code",
   "execution_count": 359,
   "id": "03f6e0b6",
   "metadata": {},
   "outputs": [
    {
     "data": {
      "text/plain": [
       "False"
      ]
     },
     "execution_count": 359,
     "metadata": {},
     "output_type": "execute_result"
    }
   ],
   "source": [
    "s1.__eq__(s2)"
   ]
  },
  {
   "cell_type": "markdown",
   "id": "548e09f5",
   "metadata": {},
   "source": [
    "# Learn different ways to format the string"
   ]
  },
  {
   "cell_type": "code",
   "execution_count": 360,
   "id": "dc1175c2",
   "metadata": {},
   "outputs": [
    {
     "name": "stdout",
     "output_type": "stream",
     "text": [
      "I love python\n"
     ]
    }
   ],
   "source": [
    "print(\"I love\",\"python\")"
   ]
  },
  {
   "cell_type": "code",
   "execution_count": 2,
   "id": "575c1ebe",
   "metadata": {},
   "outputs": [
    {
     "name": "stdout",
     "output_type": "stream",
     "text": [
      "I lovepython\n"
     ]
    }
   ],
   "source": [
    "print(\"I love\" + \"python\")"
   ]
  },
  {
   "cell_type": "code",
   "execution_count": 3,
   "id": "23b3d29c",
   "metadata": {},
   "outputs": [
    {
     "name": "stdout",
     "output_type": "stream",
     "text": [
      "I love python version 3.1\n"
     ]
    }
   ],
   "source": [
    "print(\"I love\"+\" python\" +  \" version\",3.10)"
   ]
  },
  {
   "cell_type": "code",
   "execution_count": 31,
   "id": "a2f5333f",
   "metadata": {},
   "outputs": [
    {
     "name": "stdout",
     "output_type": "stream",
     "text": [
      "I love python version 3.10\n"
     ]
    }
   ],
   "source": [
    "print(\"I love\"+\" python\" +  \" version %.2f\"%3.10 )"
   ]
  },
  {
   "cell_type": "code",
   "execution_count": 6,
   "id": "373ba995",
   "metadata": {},
   "outputs": [
    {
     "name": "stdout",
     "output_type": "stream",
     "text": [
      "I love python version 3.10\n"
     ]
    }
   ],
   "source": [
    "print(\"I love %s version %.2f\"%(\"python\",3.10))"
   ]
  },
  {
   "cell_type": "markdown",
   "id": "5980a5d1",
   "metadata": {},
   "source": [
    "##  Using Format positional argument "
   ]
  },
  {
   "cell_type": "code",
   "execution_count": 33,
   "id": "5d6f43f0",
   "metadata": {},
   "outputs": [
    {
     "name": "stdout",
     "output_type": "stream",
     "text": [
      "I love python version 3.1\n"
     ]
    }
   ],
   "source": [
    "print(\"I love {} version {}\".format(\"python\",3.10))"
   ]
  },
  {
   "cell_type": "code",
   "execution_count": 34,
   "id": "e1195fe3",
   "metadata": {},
   "outputs": [
    {
     "name": "stdout",
     "output_type": "stream",
     "text": [
      "I love python version 3.10\n"
     ]
    }
   ],
   "source": [
    "print(\"I love {} version {}\".format(\"python\",\"3.10\"))"
   ]
  },
  {
   "cell_type": "code",
   "execution_count": 39,
   "id": "73d74972",
   "metadata": {},
   "outputs": [
    {
     "name": "stdout",
     "output_type": "stream",
     "text": [
      "I love python version 3.10\n"
     ]
    }
   ],
   "source": [
    "print(\"I love {} version {:.2f}\".format(\"python\",3.10))"
   ]
  },
  {
   "cell_type": "code",
   "execution_count": 41,
   "id": "1e341110",
   "metadata": {},
   "outputs": [
    {
     "name": "stdout",
     "output_type": "stream",
     "text": [
      "I love 3.10 version of python\n"
     ]
    }
   ],
   "source": [
    "print(\"I love {1} version of {0}\".format(\"python\",\"3.10\"))"
   ]
  },
  {
   "cell_type": "markdown",
   "id": "06864615",
   "metadata": {},
   "source": [
    "## Using format keyword argument"
   ]
  },
  {
   "cell_type": "code",
   "execution_count": 42,
   "id": "00165680",
   "metadata": {
    "scrolled": true
   },
   "outputs": [
    {
     "name": "stdout",
     "output_type": "stream",
     "text": [
      "I love python version 3.10\n"
     ]
    }
   ],
   "source": [
    "print(\"I love {pl} version {version:.2f}\".format(pl=\"python\",version=3.10)) "
   ]
  },
  {
   "cell_type": "markdown",
   "id": "269d5558",
   "metadata": {},
   "source": [
    "## Using f-string literal"
   ]
  },
  {
   "cell_type": "code",
   "execution_count": 53,
   "id": "497ccd7c",
   "metadata": {},
   "outputs": [
    {
     "name": "stdout",
     "output_type": "stream",
     "text": [
      "I love python\n"
     ]
    }
   ],
   "source": [
    "info={\"pl\":\"python\",\"version\":3.10}\n",
    "print(f\"I love {info.get('pl') }\")"
   ]
  },
  {
   "cell_type": "code",
   "execution_count": 59,
   "id": "bafd650c",
   "metadata": {},
   "outputs": [
    {
     "name": "stdout",
     "output_type": "stream",
     "text": [
      "I love python version3.1\n"
     ]
    }
   ],
   "source": [
    "print(f\"I love {info.get('pl')} version{info.get('version')}\")"
   ]
  },
  {
   "cell_type": "code",
   "execution_count": 61,
   "id": "c45d4dee",
   "metadata": {},
   "outputs": [
    {
     "name": "stdout",
     "output_type": "stream",
     "text": [
      "I love python version 3.10\n"
     ]
    }
   ],
   "source": [
    "print(f\"I love {info.get('pl')} version {info.get('version'):.2f}\")"
   ]
  },
  {
   "cell_type": "markdown",
   "id": "528f7502",
   "metadata": {},
   "source": [
    "## Can be done with uppercase f literal and single quote but double quote while accessing dictionary value"
   ]
  },
  {
   "cell_type": "code",
   "execution_count": 62,
   "id": "23212590",
   "metadata": {},
   "outputs": [
    {
     "name": "stdout",
     "output_type": "stream",
     "text": [
      "I love python version 3.10\n"
     ]
    }
   ],
   "source": [
    "print(F\"I love {info.get('pl')} version {info.get('version'):.2f}\")"
   ]
  },
  {
   "cell_type": "markdown",
   "id": "20d6b793",
   "metadata": {},
   "source": [
    "## f-string conditional"
   ]
  },
  {
   "cell_type": "code",
   "execution_count": 7,
   "id": "767a4053",
   "metadata": {},
   "outputs": [],
   "source": [
    "batch=\"F5\""
   ]
  },
  {
   "cell_type": "code",
   "execution_count": 8,
   "id": "0c2b6152",
   "metadata": {},
   "outputs": [
    {
     "name": "stdout",
     "output_type": "stream",
     "text": [
      "I love javascript\n"
     ]
    }
   ],
   "source": [
    "print(f'I love {\"javascript\" if batch==\"F5\" else \"python\"}')"
   ]
  },
  {
   "cell_type": "code",
   "execution_count": 9,
   "id": "c5e548e8",
   "metadata": {},
   "outputs": [],
   "source": [
    "batch=\"F\""
   ]
  },
  {
   "cell_type": "code",
   "execution_count": 10,
   "id": "6f6820dd",
   "metadata": {},
   "outputs": [
    {
     "name": "stdout",
     "output_type": "stream",
     "text": [
      "I love python\n"
     ]
    }
   ],
   "source": [
    "print(f'I love {\"javascript\" if batch==\"F5\" else \"python\"}')"
   ]
  },
  {
   "cell_type": "markdown",
   "id": "be97f785",
   "metadata": {},
   "source": [
    "# Familiarize yourself with indexing in python"
   ]
  },
  {
   "cell_type": "markdown",
   "id": "d1fb24e1",
   "metadata": {},
   "source": [
    "## Create a list of items"
   ]
  },
  {
   "cell_type": "code",
   "execution_count": 120,
   "id": "641e3e3d",
   "metadata": {},
   "outputs": [
    {
     "name": "stdout",
     "output_type": "stream",
     "text": [
      "['Finland', 'Sweden', 'Denmark', 'Netherlands', 'Germany', 'Norway', 'Iceland']\n"
     ]
    }
   ],
   "source": [
    "countries= [\"Finland\",\"Sweden\",\"Denmark\",\"Netherlands\",\"Germany\",\"Norway\",\"Iceland\"]\n",
    "print(countries)"
   ]
  },
  {
   "cell_type": "markdown",
   "id": "2305dc77",
   "metadata": {},
   "source": [
    "## Find the index of “Sweden”"
   ]
  },
  {
   "cell_type": "code",
   "execution_count": 121,
   "id": "e2c1b35e",
   "metadata": {},
   "outputs": [
    {
     "name": "stdout",
     "output_type": "stream",
     "text": [
      "Original: ['Finland', 'Sweden', 'Denmark', 'Netherlands', 'Germany', 'Norway', 'Iceland']\n",
      "Index of Sweden: 1\n"
     ]
    }
   ],
   "source": [
    "print(\"Original:\",countries)\n",
    "print(\"Index of Sweden:\",countries.index(\"Sweden\"))"
   ]
  },
  {
   "cell_type": "markdown",
   "id": "6fc73d33",
   "metadata": {},
   "source": [
    "## Get all the items except the first"
   ]
  },
  {
   "cell_type": "code",
   "execution_count": 122,
   "id": "0eb87c55",
   "metadata": {},
   "outputs": [
    {
     "name": "stdout",
     "output_type": "stream",
     "text": [
      "Original: ['Finland', 'Sweden', 'Denmark', 'Netherlands', 'Germany', 'Norway', 'Iceland']\n",
      "Modified: ['Sweden', 'Denmark', 'Netherlands', 'Germany', 'Norway', 'Iceland']\n"
     ]
    }
   ],
   "source": [
    "countries= [\"Finland\",\"Sweden\",\"Denmark\",\"Netherlands\",\"Germany\",\"Norway\",\"Iceland\"]\n",
    "print(\"Original:\",countries)\n",
    "print(\"Modified:\",countries[1:len(countries)])"
   ]
  },
  {
   "cell_type": "markdown",
   "id": "6a4f2188",
   "metadata": {},
   "source": [
    "## Get all the items except the last"
   ]
  },
  {
   "cell_type": "code",
   "execution_count": 123,
   "id": "11d0a41d",
   "metadata": {},
   "outputs": [
    {
     "name": "stdout",
     "output_type": "stream",
     "text": [
      "Original: ['Finland', 'Sweden', 'Denmark', 'Netherlands', 'Germany', 'Norway', 'Iceland']\n",
      "Modified ['Sweden', 'Denmark', 'Netherlands', 'Germany', 'Norway']\n"
     ]
    }
   ],
   "source": [
    "print(\"Original:\",countries)\n",
    "print(\"Modified\",countries[1:len(countries)-1])"
   ]
  },
  {
   "cell_type": "markdown",
   "id": "b84bf064",
   "metadata": {},
   "source": [
    "## Find the last item using negative indexing"
   ]
  },
  {
   "cell_type": "code",
   "execution_count": 124,
   "id": "6b4ada43",
   "metadata": {},
   "outputs": [
    {
     "name": "stdout",
     "output_type": "stream",
     "text": [
      "Original: ['Finland', 'Sweden', 'Denmark', 'Netherlands', 'Germany', 'Norway', 'Iceland']\n",
      "Modified: Iceland\n"
     ]
    }
   ],
   "source": [
    "#Find the last item using negative indexing\n",
    "print(\"Original:\",countries)\n",
    "print(\"Modified:\",countries[-1])"
   ]
  },
  {
   "cell_type": "markdown",
   "id": "b0abbaf7",
   "metadata": {},
   "source": [
    "## Find the last three item using negative indexing"
   ]
  },
  {
   "cell_type": "code",
   "execution_count": 125,
   "id": "02605f73",
   "metadata": {},
   "outputs": [
    {
     "name": "stdout",
     "output_type": "stream",
     "text": [
      "Original: ['Finland', 'Sweden', 'Denmark', 'Netherlands', 'Germany', 'Norway', 'Iceland']\n",
      "Modified: ['Germany', 'Norway', 'Iceland']\n"
     ]
    }
   ],
   "source": [
    "print(\"Original:\",countries)\n",
    "print(\"Modified:\",countries[-3:])"
   ]
  },
  {
   "cell_type": "markdown",
   "id": "df3703a0",
   "metadata": {},
   "source": [
    "## Grab all the items with odd indices"
   ]
  },
  {
   "cell_type": "code",
   "execution_count": 126,
   "id": "5c6ff7c4",
   "metadata": {},
   "outputs": [
    {
     "name": "stdout",
     "output_type": "stream",
     "text": [
      "Original: ['Finland', 'Sweden', 'Denmark', 'Netherlands', 'Germany', 'Norway', 'Iceland']\n",
      "Modified: ['Sweden', 'Netherlands', 'Norway']\n"
     ]
    }
   ],
   "source": [
    "print(\"Original:\",countries)\n",
    "result = [countries[idx] for idx, ele in enumerate(countries) if idx % 2 != 0]\n",
    "print(\"Modified:\",result )"
   ]
  },
  {
   "cell_type": "markdown",
   "id": "669db80c",
   "metadata": {},
   "source": [
    "## Find the first and last item for the list"
   ]
  },
  {
   "cell_type": "code",
   "execution_count": 127,
   "id": "00795dc8",
   "metadata": {},
   "outputs": [
    {
     "name": "stdout",
     "output_type": "stream",
     "text": [
      "Original: ['Finland', 'Sweden', 'Denmark', 'Netherlands', 'Germany', 'Norway', 'Iceland']\n",
      "Modified: ['Finland', 'Iceland']\n"
     ]
    }
   ],
   "source": [
    "print(\"Original:\",countries)\n",
    "result = [countries[0], countries[-1]]\n",
    "print(\"Modified:\",result )"
   ]
  },
  {
   "cell_type": "markdown",
   "id": "903dfd8f",
   "metadata": {},
   "source": [
    "## Get [”Netherlands”,”Germany”,”Norway”] using negative indexing"
   ]
  },
  {
   "cell_type": "code",
   "execution_count": 128,
   "id": "3be3a94b",
   "metadata": {},
   "outputs": [
    {
     "name": "stdout",
     "output_type": "stream",
     "text": [
      "Original: ['Finland', 'Sweden', 'Denmark', 'Netherlands', 'Germany', 'Norway', 'Iceland']\n",
      "Modified: [['Netherlands', 'Germany', 'Norway']]\n"
     ]
    }
   ],
   "source": [
    "#Get [\"Netherlands\",\"Germany\",\"Norway\"] using negative indexing\n",
    "print(\"Original:\",countries)\n",
    "result = [countries[-4:-1]]\n",
    "print(\"Modified:\",result )"
   ]
  },
  {
   "cell_type": "markdown",
   "id": "9911454f",
   "metadata": {},
   "source": [
    "## Reverse the list"
   ]
  },
  {
   "cell_type": "code",
   "execution_count": 129,
   "id": "6dfd2179",
   "metadata": {},
   "outputs": [
    {
     "name": "stdout",
     "output_type": "stream",
     "text": [
      "Original: ['Finland', 'Sweden', 'Denmark', 'Netherlands', 'Germany', 'Norway', 'Iceland']\n",
      "modified ['Iceland', 'Norway', 'Germany', 'Netherlands', 'Denmark', 'Sweden', 'Finland']\n"
     ]
    }
   ],
   "source": [
    "print(\"Original:\",countries)\n",
    "countries.reverse()\n",
    "print(\"modified\",countries)"
   ]
  },
  {
   "cell_type": "markdown",
   "id": "20529a72",
   "metadata": {},
   "source": [
    "## What is the output of countries[::-2]"
   ]
  },
  {
   "cell_type": "code",
   "execution_count": 130,
   "id": "edbddcbd",
   "metadata": {},
   "outputs": [
    {
     "name": "stdout",
     "output_type": "stream",
     "text": [
      "Original: ['Iceland', 'Norway', 'Germany', 'Netherlands', 'Denmark', 'Sweden', 'Finland']\n",
      "modified ['Finland', 'Denmark', 'Germany', 'Iceland']\n"
     ]
    }
   ],
   "source": [
    "\n",
    "\n",
    "#countries= [\"Finland\",\"Sweden\",\"Denmark\",\"Netherlands\",\"Germany\",\"Norway\",\"Iceland\"]\n",
    "print(\"Original:\",countries)\n",
    "r=countries[::-2]\n",
    "print(\"modified\",r)"
   ]
  },
  {
   "cell_type": "markdown",
   "id": "27bc15a4",
   "metadata": {},
   "source": [
    "## What is the output of countries[1:100:2]"
   ]
  },
  {
   "cell_type": "code",
   "execution_count": 131,
   "id": "dd261444",
   "metadata": {},
   "outputs": [
    {
     "name": "stdout",
     "output_type": "stream",
     "text": [
      "Original: ['Iceland', 'Norway', 'Germany', 'Netherlands', 'Denmark', 'Sweden', 'Finland']\n",
      "modified ['Norway', 'Netherlands', 'Sweden']\n"
     ]
    }
   ],
   "source": [
    "#countries= [\"Finland\",\"Sweden\",\"Denmark\",\"Netherlands\",\"Germany\",\"Norway\",\"Iceland\"]\n",
    "print(\"Original:\",countries)\n",
    "r=countries[1:100:2]\n",
    "print(\"modified\",r)"
   ]
  },
  {
   "cell_type": "markdown",
   "id": "68be28a6",
   "metadata": {},
   "source": [
    "## What is the output of countries[len(countries)-1:0:2]?"
   ]
  },
  {
   "cell_type": "code",
   "execution_count": 132,
   "id": "74824b58",
   "metadata": {},
   "outputs": [
    {
     "name": "stdout",
     "output_type": "stream",
     "text": [
      "Original: ['Iceland', 'Norway', 'Germany', 'Netherlands', 'Denmark', 'Sweden', 'Finland']\n",
      "Length 7\n",
      "modified []\n"
     ]
    }
   ],
   "source": [
    "print(\"Original:\",countries)\n",
    "l=len(countries)\n",
    "print(\"Length\",l)\n",
    "r=countries[l-1:0:2]\n",
    "print(\"modified\",r)"
   ]
  },
  {
   "cell_type": "markdown",
   "id": "e7ed4d3a",
   "metadata": {},
   "source": [
    "## Get the output ['Germany', 'Netherlands', 'Denmark']"
   ]
  },
  {
   "cell_type": "code",
   "execution_count": 133,
   "id": "c5fe732e",
   "metadata": {},
   "outputs": [
    {
     "name": "stdout",
     "output_type": "stream",
     "text": [
      "Original: ['Iceland', 'Norway', 'Germany', 'Netherlands', 'Denmark', 'Sweden', 'Finland']\n",
      "modified: ['Germany', 'Netherlands', 'Denmark']\n"
     ]
    }
   ],
   "source": [
    "\n",
    "print(\"Original:\",countries)\n",
    "r=countries[2:5]\n",
    "\n",
    "print(\"modified:\",r)"
   ]
  },
  {
   "cell_type": "markdown",
   "id": "3785a2be",
   "metadata": {},
   "source": [
    "## Use enumerate method to get index and values in the list"
   ]
  },
  {
   "cell_type": "code",
   "execution_count": 134,
   "id": "c79a5320",
   "metadata": {},
   "outputs": [
    {
     "name": "stdout",
     "output_type": "stream",
     "text": [
      "0 Finland\n",
      "1 Sweden\n",
      "2 Denmark\n",
      "3 Netherlands\n",
      "4 Germany\n",
      "5 Norway\n",
      "6 Iceland\n"
     ]
    }
   ],
   "source": [
    "countries= [\"Finland\",\"Sweden\",\"Denmark\",\"Netherlands\",\"Germany\",\"Norway\",\"Iceland\"]\n",
    "for index, choice in enumerate(countries):\n",
    "    print(index, choice)"
   ]
  },
  {
   "cell_type": "code",
   "execution_count": 136,
   "id": "a56532b0",
   "metadata": {},
   "outputs": [],
   "source": [
    "#problem 11\n",
    "#countries[::-2]"
   ]
  },
  {
   "cell_type": "markdown",
   "id": "e16fb13d",
   "metadata": {},
   "source": [
    "# Exercise on dictionaries"
   ]
  },
  {
   "cell_type": "markdown",
   "id": "90cd815b",
   "metadata": {},
   "source": [
    "## Given the two lists of same length, create a dictionary using a list as keys and      another list as values without using loop"
   ]
  },
  {
   "cell_type": "code",
   "execution_count": 14,
   "id": "1451ca9a",
   "metadata": {},
   "outputs": [
    {
     "name": "stdout",
     "output_type": "stream",
     "text": [
      "dictionery1: {1: 'a', 2: 'b', 3: 'c', 4: 'd'}\n"
     ]
    }
   ],
   "source": [
    "# a list of keys\n",
    "k1=[1,2,3,4]\n",
    "# a list of values\n",
    "v1=[\"a\",\"b\",\"c\",\"d\"]\n",
    "# use zip to create key-value pair\n",
    "z=zip(k1,v1)\n",
    "# create dictionary\n",
    "d1=dict(z)\n",
    "# the created dictionery name is dictionery\n",
    "print(\"dictionery1:\",d1)"
   ]
  },
  {
   "cell_type": "markdown",
   "id": "fb50bb33",
   "metadata": {},
   "source": [
    "## Create two dictionaries, merge them into one."
   ]
  },
  {
   "cell_type": "code",
   "execution_count": 15,
   "id": "c9fa2eb2",
   "metadata": {},
   "outputs": [
    {
     "name": "stdout",
     "output_type": "stream",
     "text": [
      "Original Dictionary:\n",
      "{'A': 'Finland', 'B': 'Sweden'}\n",
      "Dictionary after updation:\n",
      "{'A': 'Finland', 'B': 'Sweden', 'C': 'Norway', 'D': 'Germany'}\n"
     ]
    }
   ],
   "source": [
    "\n",
    "# Dictionary1\n",
    "Dictionary1 = {'A': 'Finland', 'B': 'Sweden', }\n",
    "Dictionary2 = {'C': 'Norway','D': 'Germany'}\n",
    "\n",
    "# Dictionary before Merge\n",
    "print(\"Original Dictionary:\")\n",
    "print(Dictionary1)\n",
    "\n",
    "# Dictionery after merge\n",
    "Dictionary1.update(Dictionary2)\n",
    "print(\"Dictionary after updation:\")\n",
    "print(Dictionary1)\n"
   ]
  },
  {
   "cell_type": "markdown",
   "id": "a5e3f0b8",
   "metadata": {},
   "source": [
    "## Given the list of students, assign them the course."
   ]
  },
  {
   "cell_type": "code",
   "execution_count": 16,
   "id": "0300ab5e",
   "metadata": {},
   "outputs": [],
   "source": [
    "#Keys\n",
    "Students=[\"Duy\", \"Laxmi\",\"Antonio\",\"Maria\"]\n",
    "#values\n",
    "Course=[\"python\",\"Datbas\",\"ML\"]"
   ]
  },
  {
   "cell_type": "code",
   "execution_count": 17,
   "id": "0bd51414",
   "metadata": {},
   "outputs": [
    {
     "name": "stdout",
     "output_type": "stream",
     "text": [
      "Create dictinary with multiple keys: {'Duy': ['python', 'Datbas', 'ML'], 'Laxmi': ['python', 'Datbas', 'ML'], 'Antonio': ['python', 'Datbas', 'ML'], 'Maria': ['python', 'Datbas', 'ML']}\n"
     ]
    }
   ],
   "source": [
    "new_dict = {}\n",
    "for org_key in Students:\n",
    "    new_dict[org_key] =Course\n",
    "\n",
    "print(\"Create dictinary with multiple keys:\",new_dict)"
   ]
  },
  {
   "cell_type": "markdown",
   "id": "2c53a852",
   "metadata": {},
   "source": [
    "## Modify Antonio’s course to [\"JavaScript\",\"Database\",\"NodeJS\"]"
   ]
  },
  {
   "cell_type": "code",
   "execution_count": 18,
   "id": "27f439c4",
   "metadata": {},
   "outputs": [],
   "source": [
    "new_dict['Antonio']=[\"JavaScript\",\"Database\",\"NodeJS\"]"
   ]
  },
  {
   "cell_type": "code",
   "execution_count": 19,
   "id": "3da3404c",
   "metadata": {},
   "outputs": [
    {
     "data": {
      "text/plain": [
       "{'Duy': ['python', 'Datbas', 'ML'],\n",
       " 'Laxmi': ['python', 'Datbas', 'ML'],\n",
       " 'Antonio': ['JavaScript', 'Database', 'NodeJS'],\n",
       " 'Maria': ['python', 'Datbas', 'ML']}"
      ]
     },
     "execution_count": 19,
     "metadata": {},
     "output_type": "execute_result"
    }
   ],
   "source": [
    "new_dict"
   ]
  },
  {
   "cell_type": "markdown",
   "id": "e29e6b7d",
   "metadata": {},
   "source": [
    "## Add “ReactJs” to Anonio’s course"
   ]
  },
  {
   "cell_type": "code",
   "execution_count": 20,
   "id": "197cebf2",
   "metadata": {},
   "outputs": [],
   "source": [
    "new_dict['Antonio'].append(\"ReactJs\")"
   ]
  },
  {
   "cell_type": "code",
   "execution_count": 21,
   "id": "a17db5da",
   "metadata": {},
   "outputs": [
    {
     "data": {
      "text/plain": [
       "{'Duy': ['python', 'Datbas', 'ML'],\n",
       " 'Laxmi': ['python', 'Datbas', 'ML'],\n",
       " 'Antonio': ['JavaScript', 'Database', 'NodeJS', 'ReactJs'],\n",
       " 'Maria': ['python', 'Datbas', 'ML']}"
      ]
     },
     "execution_count": 21,
     "metadata": {},
     "output_type": "execute_result"
    }
   ],
   "source": [
    "new_dict"
   ]
  },
  {
   "cell_type": "markdown",
   "id": "61e93da4",
   "metadata": {},
   "source": [
    "## Replace Antonio’s “ReactJs” to “Vuejs”"
   ]
  },
  {
   "cell_type": "code",
   "execution_count": 28,
   "id": "c1787ee4",
   "metadata": {},
   "outputs": [
    {
     "name": "stdout",
     "output_type": "stream",
     "text": [
      "{'Duy': ['python', 'Datbas', 'ML'], 'Laxmi': ['python', 'Datbas', 'ML'], 'Antonio': ['JavaScript', 'Database', 'NodeJS', 'Vuejs'], 'Maria': ['python', 'Datbas', 'ML']}\n"
     ]
    }
   ],
   "source": [
    "new_dict['Antonio'][3]=\"Vuejs\"\n",
    "print(new_dict)"
   ]
  },
  {
   "cell_type": "markdown",
   "id": "68dd9a45",
   "metadata": {},
   "source": [
    "## Remove an item from dictionary"
   ]
  },
  {
   "cell_type": "code",
   "execution_count": 114,
   "id": "4d47e68b",
   "metadata": {},
   "outputs": [
    {
     "data": {
      "text/plain": [
       "{'Duy': ['python', 'Datbas', 'ML', 'Vuejs'],\n",
       " 'Laxmi': ['python', 'Datbas', 'ML', 'Vuejs'],\n",
       " 'Maria': ['python', 'Datbas', 'ML', 'Vuejs']}"
      ]
     },
     "execution_count": 114,
     "metadata": {},
     "output_type": "execute_result"
    }
   ],
   "source": [
    "# removing Antonio item from new_dict\n",
    "del new_dict['Antonio']  \n",
    "new_dict"
   ]
  }
 ],
 "metadata": {
  "kernelspec": {
   "display_name": "Python 3 (ipykernel)",
   "language": "python",
   "name": "python3"
  },
  "language_info": {
   "codemirror_mode": {
    "name": "ipython",
    "version": 3
   },
   "file_extension": ".py",
   "mimetype": "text/x-python",
   "name": "python",
   "nbconvert_exporter": "python",
   "pygments_lexer": "ipython3",
   "version": "3.7.4"
  },
  "toc": {
   "base_numbering": 1,
   "nav_menu": {},
   "number_sections": true,
   "sideBar": true,
   "skip_h1_title": false,
   "title_cell": "Table of Contents",
   "title_sidebar": "Contents",
   "toc_cell": false,
   "toc_position": {},
   "toc_section_display": true,
   "toc_window_display": false
  }
 },
 "nbformat": 4,
 "nbformat_minor": 5
}
