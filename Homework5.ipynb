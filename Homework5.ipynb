{
 "cells": [
  {
   "cell_type": "code",
   "execution_count": 350,
   "id": "c1d21b71",
   "metadata": {},
   "outputs": [],
   "source": [
    "#import libraries\n",
    "import numpy as np\n",
    "import pandas as pd\n",
    "import scipy\n",
    "import statsmodels.api as sm\n",
    "from statsmodels.formula.api import ols\n",
    "from matplotlib import pyplot as plt\n",
    "import seaborn as sns \n",
    "from scipy.stats import norm,chi2,t\n",
    "from statsmodels.stats.multicomp import MultiComparison\n",
    "from scipy.stats import f\n",
    "import math\n",
    "from  math import sqrt\n",
    "warnings.filterwarnings('ignore')\n",
    "from scipy.stats import sem\n",
    "from statsmodels.stats.power import TTestIndPower"
   ]
  },
  {
   "cell_type": "code",
   "execution_count": 351,
   "id": "cd4bd3d7",
   "metadata": {},
   "outputs": [],
   "source": [
    "def MY_ZTEST(data,confi=95,pop_mean=4.5):\n",
    "    font = {'family': 'serif',\n",
    "        'color':  'darkred',\n",
    "        'weight': 'normal',\n",
    "        'size': 16,\n",
    "        }\n",
    "    buff=[]\n",
    "    for i in data:\n",
    "        buff.append(i)\n",
    "    buff=np.array(buff)\n",
    "    #z_cal = np.sqrt( len(buff))*abs((pop_mean -  buff.mean())) /  buff.std()\n",
    "    z_cal = np.sqrt( len(buff))*abs((pop_mean -  buff.mean())) / buff.std()\n",
    "    print(\"Sample Mean\",buff.mean())\n",
    "    print(\"Sample std\",buff.std())\n",
    "    print(\"Confidence lavel:\",confi/100)    \n",
    "    \n",
    "    alpha =(100-confi)/100\n",
    "    print(\"Significance lavel:\",alpha)\n",
    "    alpha_2= alpha/2\n",
    "    z = 1-alpha_2\n",
    "    # retrieve value <= probability\n",
    "    z_cri = norm.ppf(z)\n",
    "    print(\"Z_cal\",z_cal)\n",
    "    print(\"z-critical:\",z_cri)\n",
    "    \n",
    "    X = np.arange(-6, 6, 0.00001)\n",
    "    Y = norm.pdf(X, loc=0, scale=1)\n",
    "    plt.plot(X, Y)\n",
    "    plt.title(\"Probability Distribution Function\")\n",
    "    plt.xlabel('X-Values')\n",
    "    plt.ylabel('PDF(x)')\n",
    "    plt.axvline(x = z_cri, color = 'r', label = 'axvline - full height')\n",
    "    plt.axvline(x = z_cal, color = 'b', label = 'axvline - full height')\n",
    "    #plt.text(-3, 0.25, r'z_crit=1.96', fontdict=font,color=\"r\")\n",
    "    #plt.text(-3, 0.35, r'z_cal=0.6122', fontdict=font,color=\"b\")\n",
    "    if z_cal>z_cri:\n",
    "        print(\"There is enough evidence to reject Null Hypothesis\")\n",
    "    else:\n",
    "        print(\"There is enough evidence not to reject Null Hypothesis (a.k.a Accept Null Hypothesis)\")"
   ]
  },
  {
   "cell_type": "code",
   "execution_count": 352,
   "id": "0812dc4f",
   "metadata": {},
   "outputs": [],
   "source": [
    "from scipy.stats import sem\n",
    "from scipy.stats import t\n",
    "def One_Sample_Test(data1,pop_mean=4.5):\n",
    "\n",
    "    buff=[]\n",
    "    for i in data1:\n",
    "        buff.append(i)\n",
    "    buff=np.array(buff)\n",
    "    df=buff.size-1\n",
    "    print(\"degrees of freedom\",df)\n",
    "    cal =  abs(buff.size ** 0.5)*(pop_mean - buff.mean()) / (buff.std(ddof=1) )\n",
    "    return cal,df"
   ]
  },
  {
   "cell_type": "code",
   "execution_count": 353,
   "id": "5366f08b",
   "metadata": {},
   "outputs": [],
   "source": [
    "def Two_Sample_Test(data1,data2,confi=95):\n",
    "\n",
    "    buff1=[]\n",
    "    for i in data1:\n",
    "        buff1.append(i)\n",
    "    buff1=np.array(buff1)\n",
    "    df1=buff1.size-1\n",
    "    \n",
    "    buff2=[]\n",
    "    for i in data2:\n",
    "        buff2.append(i)\n",
    "    buff2=np.array(buff2)\n",
    "    df2=buff2.size-1\n",
    "    df=df1+df2\n",
    "    var1=np.var(buff1)\n",
    "    var2= np.var(buff2)\n",
    "    mean1=np.mean(buff1)\n",
    "    mean2=np.mean(buff2)\n",
    "    mean_diff=abs(mean1-mean2)\n",
    "    stan=np.sqrt(var1/df1 + var2/df2)\n",
    "    cal=mean_diff/stan\n",
    "    print(\"degrees of freedom\",df)\n",
    "    cal =cal=mean_diff/stan\n",
    "    return cal,df"
   ]
  },
  {
   "cell_type": "code",
   "execution_count": 354,
   "id": "d3162f4c",
   "metadata": {},
   "outputs": [],
   "source": [
    "def Paired_Ttest(data1,data2,confi=95):\n",
    "    buff1=[]\n",
    "    for i in data1:\n",
    "        buff1.append(i)\n",
    "    buff1=np.array(buff1)\n",
    "    df1=buff1.size\n",
    "    \n",
    "    buff2=[]\n",
    "    for i in data2:\n",
    "        buff2.append(i)\n",
    "    buff2=np.array(buff2)\n",
    "#    #t-paired test\n",
    "    difference= buff1-buff2\n",
    "    df=len( buff1)+len(buff2)-1\n",
    "    cal=abs(df*(difference.mean()/difference.std()))\n",
    "    return cal,df\n",
    "    "
   ]
  },
  {
   "cell_type": "code",
   "execution_count": 355,
   "id": "5eeac397",
   "metadata": {},
   "outputs": [],
   "source": [
    "def Chisquare_test(data1,data2,confi):\n",
    "\n",
    "    buff1=[]\n",
    "    for i in data1:\n",
    "        buff1.append(i)\n",
    "    buff1=np.array(buff1)\n",
    "    l=len(buff1)\n",
    "    df=l-1\n",
    "    buff2=[]\n",
    "    for i in data2:\n",
    "        buff2.append(i)\n",
    "    buff2=np.array(buff2)\n",
    "\n",
    "    difference= buff1-buff2\n",
    "    r= [i**2 for i in difference]\n",
    "    chi_cal=sum([r[j]/Expected[j] for j in range(0,(l-1))] )\n",
    "    alpha =(100-confi)/100\n",
    "    l_value = chi2.ppf(alpha, df)\n",
    "    h_value=chi2.ppf(1-alpha/2, df)\n",
    "    null_hypothesis = bool(l_value <= chi_cal <= h_value)\n",
    "    \n",
    "    print(\"lower value:\",l_value)\n",
    "    print(\"Calculated chisquare:\", chi_cal)\n",
    "    print(\"higher value:\",h_value)\n",
    "    print(\"Calculated Chi-squae value in between critical lower and upper value:\")\n",
    "    print(\"Test result:\", null_hypothesis)\n",
    "   "
   ]
  },
  {
   "cell_type": "code",
   "execution_count": 356,
   "id": "babf4a46",
   "metadata": {},
   "outputs": [],
   "source": [
    "#ANOVA1"
   ]
  },
  {
   "cell_type": "code",
   "execution_count": 357,
   "id": "b35fd568",
   "metadata": {},
   "outputs": [],
   "source": [
    "from scipy.stats import f\n",
    "DepartmentA = [55, 60, 50, 58, 63, 62, 57, 56, 61, 59]\n",
    "DepartmentB = [50, 52, 48, 49, 55, 53, 51, 54, 47, 50]\n",
    "DepartmentC = [45, 43, 48, 50, 42, 47, 49, 46, 44, 48]\n",
    "\n",
    "data1,data2,data3=DepartmentA,DepartmentB,DepartmentC\n",
    "\n",
    "def Anova_Oneway(data1,data2,data3,confi):\n",
    "    data = pd.DataFrame({'DepartmentA':data1, \n",
    "                      'DepartmentB':data2, \n",
    "                      'DepartmentC':data3})\n",
    "    cols=list(data.keys())\n",
    "    #number of group\n",
    "    n=len(cols)\n",
    "    dfn=n-1\n",
    "    dfd=data.shape[0]*data.shape[1]-n\n",
    "    \n",
    "    print(cols)\n",
    "    df = pd.melt(data,  \n",
    "              value_vars=cols)\n",
    "    df.columns = [ 'Emploee', 'Salaries']\n",
    "\n",
    "    df.sample(5)\n",
    "\n",
    "    alpha =(100-confi)/100\n",
    "    U_cri=f.ppf(1-alpha/2,dfn,dfd)\n",
    "    L_cri=f.ppf(alpha/2,dfn,dfd)\n",
    "    model = ols('Salaries~C(Emploee)', data=df).fit()\n",
    "    f_val=model.fvalue\n",
    "    print(\"fvalue\",f_val)\n",
    "   \n",
    "    #print(model.summary() )\n",
    "    comparison = MultiComparison(df['Salaries'], df['Emploee'])\n",
    "    tukey = comparison.tukeyhsd(alpha)\n",
    "    print(tukey.summary())\n",
    "\n",
    "    x = np.linspace(f.ppf(0.01, dfn, dfd),f.ppf(0.99, dfn, dfd), 100)\n",
    "    plt.plot(x, f.pdf(x, dfn, dfd),'r-', lw=5, alpha=0.6, label='f pdf')\n",
    "    x_cri=f.ppf(alpha/2,dfn,dfd)\n",
    "    plt.axvline(x=U_cri, label='Upper F Critical value', color='r')\n",
    "    plt.axvline(x=L_cri, label='Lower F Critical value', color='g')\n",
    "    plt.axvline(x=f_val, label='F-score')\n",
    "    plt.legend()\n",
    "    "
   ]
  },
  {
   "cell_type": "code",
   "execution_count": 358,
   "id": "648c6e49",
   "metadata": {},
   "outputs": [],
   "source": [
    "#ANOVA2"
   ]
  },
  {
   "cell_type": "code",
   "execution_count": 359,
   "id": "805a17d0",
   "metadata": {},
   "outputs": [],
   "source": [
    "import itertools\n",
    "def Anova2(data,interaction=1):\n",
    "    keys=data.keys()\n",
    "    ll=len(data[keys[0]].index[0])+ len(data[keys[1]].index[1])\n",
    "   \n",
    "    G33=[]\n",
    "    for keys in data.keys():\n",
    "        for j in range(0,data.shape[0]):\n",
    "            G33.append(data[keys][data.index[j]])\n",
    "        \n",
    "    G33=np.array(G33)\n",
    "    G33.reshape(G33.shape[1]*G33.shape[0],)\n",
    "    \n",
    "    \n",
    "    #ll=len(data[keys[0]].Male)+ len(data[keys[0]].Female)\n",
    "    G22=[list(itertools.repeat(keys,ll)) for keys in data.keys()]\n",
    "    G22=np.array(G22)\n",
    "    G22=G22.reshape(G22.shape[1]*G22.shape[0],)\n",
    "    \n",
    "    G11=[]\n",
    "    keys_len=len(data.keys())\n",
    "    indexx=data.index.shape\n",
    "\n",
    "    for _ in range(0,keys_len):\n",
    "        for j in range(0,indexx[0]):\n",
    "            G11.append(int(ll/2)*([data.index[j]]))\n",
    "            \n",
    "    G11=np.array(G11)\n",
    "    G11=G11.reshape(G11.shape[1]*G11.shape[0],)\n",
    "    #G22=np.array(G22).reshape(30,)\n",
    "    #G33=np.array(G33).reshape(30,)\n",
    "    G33=G33.reshape(G33.shape[1]*G33.shape[0],)\n",
    "    dicn= {\"Gender\":G11,\"Department\":G22,\"Salary\":G33}\n",
    "    df=pd.DataFrame(dicn)\n",
    "    #print(df)\n",
    "    #perform two-way ANOVA\n",
    "    if interaction==1:\n",
    "        model = ols('Salary ~ C(Gender) + C(Department) + C(Gender):C(Department)', data=df).fit()\n",
    "        return(sm.stats.anova_lm(model, typ=2))\n",
    "    else:\n",
    "        model = ols('Salary ~ C(Gender) + C(Department)', data=df).fit()\n",
    "        return(sm.stats.anova_lm(model, typ=2))\n",
    "        \n",
    "    print(\"------------------------\")\n",
    "    #return result\n",
    "\n"
   ]
  },
  {
   "cell_type": "code",
   "execution_count": 360,
   "id": "79fd1277",
   "metadata": {},
   "outputs": [],
   "source": [
    "def Display(cal,df,confi,test):\n",
    "    font = {'family': 'serif','color':  'darkred','weight': 'normal','size': 16,}\n",
    "    \n",
    "    if test==\"one_sample_Test\"or \"Two_Sample_Test\" or \"Paired_Test\":\n",
    "        alpha =(100-confi)/100\n",
    "        print(\"Significance lavel:\",alpha)\n",
    "        alpha_2= alpha/2\n",
    "\n",
    "        cri = abs(t.ppf(alpha_2,df))\n",
    "        print(\"t_cal\",abs(cal))\n",
    "        print(\"t-critical:\",cri)\n",
    "        x = np.linspace(t.ppf(0.01, df),t.ppf(0.99, df), 100)\n",
    "        plt.plot(x, t.pdf(x, df),'r-', lw=5, alpha=0.6, label='t pdf')\n",
    "    \n",
    "        plt.title(\"Probability t Distribution Function\")\n",
    "        plt.xlabel('X-Values')\n",
    "        plt.ylabel('PDF(x)')\n",
    "        plt.axvline(x = abs(cri), color = 'r', label = 'Critical value')\n",
    "        plt.axvline(x = abs(cal), color = 'b', label = 'Calculated value')\n",
    "        # Function add a legend  \n",
    "        #plt.legend([\"blue\", \"green\"], loc =\"lower right\")\n",
    "        plt.legend()\n",
    "  \n",
    "\n",
    "    else:\n",
    "        print(\"not recognizing\")\n",
    "       \n",
    "       \n",
    "    if abs(cal)>abs(cri):\n",
    "        print(\"There is enough evidence to reject Null Hypothesis\")\n",
    "    else:\n",
    "        print(\"There is enough evidence not to reject Null Hypothesis (a.k.a Accept Null Hypothesis)\")\n",
    "    "
   ]
  },
  {
   "cell_type": "code",
   "execution_count": 361,
   "id": "fe3de91f",
   "metadata": {},
   "outputs": [],
   "source": [
    "\n",
    "def All_test(data1,data2=None,data3=None,confi=95,pop_mean=5,test=\"one_sample_Test\"):\n",
    "    if test==\"one_sample_Test\":\n",
    "        cal,df=One_Sample_Test(data1,pop_mean)\n",
    "        Display(cal,df,confi,test)\n",
    "    elif test==\"Two_Sample_Test\":\n",
    "        cal,df=Two_Sample_Test(data1,data2,confi=95)\n",
    "        Display(cal,df,confi,test)\n",
    "    elif test==\"Paired_Test\":\n",
    "        cal,df=Paired_Ttest(data1,data2,confi=95)\n",
    "        Display(cal,df,confi,test)\n",
    "    elif test== \"Z_test\":\n",
    "        MY_ZTEST(data1,confi=95,pop_mean=5)\n",
    "    elif test==\"Chi_Test\":\n",
    "        Chisquare_test(data1,data2,confi=95)\n",
    "    elif test==\"Anova_Oneway\":\n",
    "        Anova_Oneway(data1,data2,data3,confi)\n",
    "    elif test==\"Anova2\":\n",
    "        return(Anova2(data,interaction=1))\n",
    "        \n",
    "        \n",
    "    else:\n",
    "        pass\n",
    "    #elif test==\"Two_Sample_Test\":\n",
    "        #cal,df=Two_Sample_Test(*data1,*data2,pop_mean)(*data1,pop_mean)\n",
    "        "
   ]
  },
  {
   "cell_type": "code",
   "execution_count": 362,
   "id": "fc3db80e",
   "metadata": {},
   "outputs": [],
   "source": [
    "def normality_test(x,alpha):\n",
    "    k2, p = stats.normaltest(x)\n",
    "    print(\"Alpha:\",alpha)\n",
    "    print(\"p value:\",p)\n",
    "    if p < alpha:  # null hypothesis: x comes from a normal distribution\n",
    "        print(\"Sample comes from a normal distribution\")\n",
    "    else:\n",
    "        print(\"Sample may not come from a normal distribution\")\n",
    "    "
   ]
  },
  {
   "cell_type": "markdown",
   "id": "2940f5b2",
   "metadata": {},
   "source": [
    "# Z-TEST"
   ]
  },
  {
   "cell_type": "markdown",
   "id": "42155812",
   "metadata": {},
   "source": [
    "Suppose we are testing a new model of cell-phone and want to compare its bandwidth to the\n",
    "previous model.\n",
    "Sample = [4.186, 4.439, 4.781, 4.388, 4.947, 4.853, 4.889, 4.682, 4.428, 4.533,\n",
    "4.557, 4.761, 4.491, 4.334, 4.83 , 4.268, 4.68 , 4.437, 5.382, 5.111, 5.096, 5.232,\n",
    "5.033, 5.57 , 4.474, 4.789, 4.725, 4.84 , 4.817, 4.438, 4.754, 4.966, 4.285, 4.482,\n",
    "4.396, 4.418, 4.514, 5.383, 5.264, 4.309, 5.058, 4.392, 4.788, 4.934, 4.967, 4.554,\n",
    "4.42 , 5. , 5.126, 5.082, 4.944, 4.658]\n",
    "● State the null and alternative hypotheses.\n",
    "● Use the Z-test to determine whether the new model has a significantly different bandwidth 4.5 GHz from the previous model with a standard deviation of 0.6 GHz, using a significance level of 0.05.\n",
    "● Interpret the results\n"
   ]
  },
  {
   "cell_type": "raw",
   "id": "82abe89f",
   "metadata": {},
   "source": [
    "H0: The bandwidth of the current and previous model are same\n",
    "H1: The bandwidth of the current and previous model are not same"
   ]
  },
  {
   "cell_type": "code",
   "execution_count": 365,
   "id": "b95dbf77",
   "metadata": {},
   "outputs": [],
   "source": [
    "#TEST\n",
    "Sample = [4.186, 4.439, 4.781, 4.388, 4.947, 4.853, 4.889, 4.682, 4.428, 4.533,\n",
    "4.557, 4.761, 4.491, 4.334, 4.83 , 4.268, 4.68 , 4.437, 5.382, 5.111, 5.096, 5.232,\n",
    "5.033, 5.57 , 4.474, 4.789, 4.725, 4.84 , 4.817, 4.438, 4.754, 4.966, 4.285, 4.482,\n",
    "4.396, 4.418, 4.514, 5.383, 5.264, 4.309, 5.058, 4.392, 4.788, 4.934, 4.967, 4.554,\n",
    "4.42 , 5. , 5.126, 5.082, 4.944, 4.658]"
   ]
  },
  {
   "cell_type": "code",
   "execution_count": 366,
   "id": "70ad4278",
   "metadata": {},
   "outputs": [
    {
     "name": "stdout",
     "output_type": "stream",
     "text": [
      "Alpha: 0.05\n",
      "p value: 0.3107607979206278\n",
      "Sample may not come from a normal distribution\n"
     ]
    }
   ],
   "source": [
    "normality_test(Sample,0.05)"
   ]
  },
  {
   "cell_type": "code",
   "execution_count": 367,
   "id": "083a1a1e",
   "metadata": {},
   "outputs": [
    {
     "name": "stdout",
     "output_type": "stream",
     "text": [
      "Sample Mean 4.743942307692307\n",
      "Sample std 0.3254858742924266\n",
      "Confidence lavel: 0.95\n",
      "Significance lavel: 0.05\n",
      "Z_cal 5.672929070113261\n",
      "z-critical: 1.959963984540054\n",
      "There is enough evidence to reject Null Hypothesis\n"
     ]
    },
    {
     "data": {
      "image/png": "[encoded data removed]",
      "text/plain": [
       "<Figure size 432x288 with 1 Axes>"
      ]
     },
     "metadata": {
      "needs_background": "light"
     },
     "output_type": "display_data"
    }
   ],
   "source": [
    "data1=ZSample\n",
    "All_test(data1,data2=None,data3=None,confi=95,pop_mean=4.5,test=\"Z_test\")"
   ]
  },
  {
   "cell_type": "code",
   "execution_count": 368,
   "id": "7a8ad9aa",
   "metadata": {},
   "outputs": [],
   "source": [
    "#INTERPRETATION"
   ]
  },
  {
   "cell_type": "markdown",
   "id": "ada8791c",
   "metadata": {},
   "source": [
    "# One Sample T-test"
   ]
  },
  {
   "cell_type": "markdown",
   "id": "02362462",
   "metadata": {},
   "source": [
    "One sample T-test: Suppose we have a new manufacturing process for producing aluminum cans, and we want to test whether the mean weight of the cans produced using this new process is significantly different from the target\n",
    "weight of 15 grams. We randomly sample 30 cans produced using the new process and measure their weights in grams. We obtain the following data:\n",
    "\n",
    "Sample = [14.8, 15.2, 15.1, 15.3, 15.0, 14.9, 15.2, 14.8, 15.1, 15.0, 14.9,\n",
    "14.8, 15.2, 14.9, 15.0, 14.9, 15.1, 15.3, 15.0, 15.1, 14.8, 15.0, 15.2, 15.1,\n",
    "15.3, 15.1, 15.0, 14.8, 15.2, 15.0]\n",
    "● State the null and alternative hypotheses.\n",
    "● Use the appropriate T-test to determine whether the mean weight of theproduced cans is equal to the targetweight   of 15 grams, using a significance level of 0.05.\n",
    "● Interpret the results\n"
   ]
  },
  {
   "cell_type": "raw",
   "id": "fa5e66cd",
   "metadata": {},
   "source": [
    "H0: Previous weight of the can and target weight of newly processed can are same\n",
    "H1: Previous weight of the can and target weight of newly processed can are not same"
   ]
  },
  {
   "cell_type": "code",
   "execution_count": 369,
   "id": "19801aef",
   "metadata": {
    "scrolled": false
   },
   "outputs": [
    {
     "name": "stdout",
     "output_type": "stream",
     "text": [
      "Alpha: 0.05\n",
      "p value: 0.26673475177866685\n",
      "Sample may not come from a normal distribution\n"
     ]
    }
   ],
   "source": [
    "Sample = [14.8, 15.2, 15.1, 15.3, 15.0, 14.9, 15.2, 14.8, 15.1, 15.0, 14.9,14.8, 15.2, 14.9, 15.0, 14.9, 15.1, 15.3, 15.0, 15.1, 14.8, 15.0, 15.2, 15.1,15.3, 15.1, 15.0, 14.8, 15.2, 15.0]\n",
    "normality_test(Sample,0.05)\n",
    "\n"
   ]
  },
  {
   "cell_type": "code",
   "execution_count": 370,
   "id": "80b15dd4",
   "metadata": {},
   "outputs": [
    {
     "name": "stdout",
     "output_type": "stream",
     "text": [
      "degrees of freedom 29\n",
      "Significance lavel: 0.05\n",
      "t_cal 1.266102316314493\n",
      "t-critical: 2.0452296421327034\n",
      "There is enough evidence not to reject Null Hypothesis (a.k.a Accept Null Hypothesis)\n"
     ]
    },
    {
     "data": {
      "image/png": "[encoded data removed]",
      "text/plain": [
       "<Figure size 432x288 with 1 Axes>"
      ]
     },
     "metadata": {
      "needs_background": "light"
     },
     "output_type": "display_data"
    }
   ],
   "source": [
    "All_test(data1=Sample,data2=None,data3=None,confi=95,pop_mean=15,test=\"one_sample_Test\")"
   ]
  },
  {
   "cell_type": "markdown",
   "id": "9367db84",
   "metadata": {},
   "source": [
    "# Two-Sample T-test"
   ]
  },
  {
   "cell_type": "markdown",
   "id": "17dcde6c",
   "metadata": {},
   "source": [
    "Two Sample T-test: Suppose a food company has developed a new flavor of potato chips and wants to compare it to the current best-selling flavor. The company randomly selects two groups of 20 customers each. The first group is\n",
    "given the new flavor of potato chips, while the second group is given the best-selling flavor. After trying the potato chips, each customer rates the flavor on a scale of 1 to 10. The following are the flavor ratings for the \n",
    "\n",
    "two groups:\n",
    "New flavor = [8, 7, 9, 6, 7, 8, 9, 7, 8, 7, 6, 8, 7, 9, 8, 7, 6, 9, 8, 7]\n",
    "Best selling flavor = [6, 7, 8, 6, 7, 6, 7, 6, 8, 7, 6, 7, 6, 8, 7, 6, 7, 8, 6, 7]\n",
    "\n",
    "● State the null and alternative hypotheses.\n",
    "● Use the appropriate T-test to determine whether there is a significant difference between the two groups or not, using a significance level of 0.05.\n",
    "● Interpret the results\n",
    "\n",
    "\n"
   ]
  },
  {
   "cell_type": "raw",
   "id": "d9c5f8be",
   "metadata": {},
   "source": [
    "H0: The means of the rating of \"new flavor\" of potato chips and \"current best-selling flavor\" are same\n",
    "H1: The means of the rating of \"new flavor\" of potato chips and \"current best-selling flavor\" are not same"
   ]
  },
  {
   "cell_type": "code",
   "execution_count": 371,
   "id": "1ba7e154",
   "metadata": {
    "scrolled": true
   },
   "outputs": [
    {
     "name": "stdout",
     "output_type": "stream",
     "text": [
      "degrees of freedom 38\n",
      "Significance lavel: 0.05\n",
      "t_cal 2.6626213096882503\n",
      "t-critical: 2.0243941645751367\n",
      "There is enough evidence to reject Null Hypothesis\n"
     ]
    },
    {
     "data": {
      "image/png": "[encoded data removed]",
      "text/plain": [
       "<Figure size 432x288 with 1 Axes>"
      ]
     },
     "metadata": {
      "needs_background": "light"
     },
     "output_type": "display_data"
    }
   ],
   "source": [
    "test=\"Two_Sample_Test\"\n",
    "New_flavor = [8, 7, 9, 6, 7, 8, 9, 7, 8, 7, 6, 8, 7, 9, 8, 7, 6, 9, 8, 7]\n",
    "Best_selling_flavor = [6, 7, 8, 6, 7, 6, 7, 6, 8, 7, 6, 7, 6, 8, 7, 6, 7, 8, 6, 7]\n",
    "All_test(data1=New_flavor,data2=Best_selling_flavor,data3=None,confi=95,pop_mean=15,test=test)"
   ]
  },
  {
   "cell_type": "code",
   "execution_count": 372,
   "id": "f85684b6",
   "metadata": {},
   "outputs": [],
   "source": [
    "# t-test and data and hypothesis two-sample"
   ]
  },
  {
   "cell_type": "markdown",
   "id": "f1012e88",
   "metadata": {},
   "source": [
    "# Paired T-test"
   ]
  },
  {
   "cell_type": "markdown",
   "id": "5d2b730a",
   "metadata": {},
   "source": [
    "Suppose a company wants to evaluate a new training program for its employees. The company selects 20 employees and measures their productivity before and after the training program. The following are the productivity scores (number of tasks completed per hour) for each employee before and after the training:\n",
    "\n",
    "Before = [15, 18, 12, 10, 17, 16, 12, 14, 19, 18, 11, 13, 16, 17, 19, 14, 16,\n",
    "13, 15, 12]\n",
    "After = [18, 20, 15, 13, 19, 18, 14, 16, 21, 20, 14, 16, 19, 20, 22, 16, 18,\n",
    "15, 17, 14]\n",
    "\n",
    "-State the null and alternative hypotheses.\n",
    "-Use the appropriate T-test to determine whether the new training program has had an effect on employee productivity, with a significance level of 0.05."
   ]
  },
  {
   "cell_type": "raw",
   "id": "662bb584",
   "metadata": {},
   "source": [
    "H0: Productivity before and after the training program are same\n",
    "H1: Productivity before and after the training program are not same"
   ]
  },
  {
   "cell_type": "code",
   "execution_count": 373,
   "id": "cbd5197a",
   "metadata": {},
   "outputs": [
    {
     "name": "stdout",
     "output_type": "stream",
     "text": [
      "Significance lavel: 0.05\n",
      "t_cal 191.06019993708787\n",
      "t-critical: 2.0226909117347285\n",
      "There is enough evidence to reject Null Hypothesis\n"
     ]
    },
    {
     "data": {
      "image/png": "[encoded data removed]",
      "text/plain": [
       "<Figure size 432x288 with 1 Axes>"
      ]
     },
     "metadata": {
      "needs_background": "light"
     },
     "output_type": "display_data"
    }
   ],
   "source": [
    "test=\"Paired_Test\"\n",
    "Before = [15, 18, 12, 10, 17, 16, 12, 14, 19, 18, 11, 13, 16, 17, 19, 14, 16,\n",
    "13, 15, 12]\n",
    "After = [18, 20, 15, 13, 19, 18, 14, 16, 21, 20, 14, 16, 19, 20, 22, 16, 18,\n",
    "15, 17, 14]\n",
    "\n",
    "All_test(data1=Before,data2=After,data3=None,confi=95,pop_mean=15,test=test)"
   ]
  },
  {
   "cell_type": "code",
   "execution_count": null,
   "id": "a8860068",
   "metadata": {},
   "outputs": [],
   "source": []
  },
  {
   "cell_type": "markdown",
   "id": "aa33dad3",
   "metadata": {},
   "source": [
    "# ANOVA Test: Oneway"
   ]
  },
  {
   "cell_type": "markdown",
   "id": "e9af3718",
   "metadata": {},
   "source": [
    "Suppose a company has three departments (A, B, and C) and wants to test whether there is a significant difference in salaries between the departments. The company selects 10 employees randomly from each\n",
    "department and records their salaries.\n",
    "\n",
    "Department A = [55, 60, 50, 58, 63, 62, 57, 56, 61, 59]\n",
    "Department B = [50, 52, 48, 49, 55, 53, 51, 54, 47, 50]\n",
    "Department C = [45, 43, 48, 50, 42, 47, 49, 46, 44, 48]\n",
    "\n",
    "● State the null and alternative hypotheses.\n",
    "● Use One-Way ANOVA-test to determine whether there is a significant\n",
    "  difference in salaries between the three departments.\n",
    "● Interpret the results\n"
   ]
  },
  {
   "cell_type": "raw",
   "id": "a83835b0",
   "metadata": {},
   "source": [
    "H0: µ1= µ2= µ3\n",
    "H1: at least one of the means is significantly different from the others"
   ]
  },
  {
   "cell_type": "code",
   "execution_count": 374,
   "id": "f11dc7ac",
   "metadata": {},
   "outputs": [
    {
     "name": "stdout",
     "output_type": "stream",
     "text": [
      "['DepartmentA', 'DepartmentB', 'DepartmentC']\n",
      "fvalue 37.681818181818166\n",
      "      Multiple Comparison of Means - Tukey HSD, FWER=0.05      \n",
      "===============================================================\n",
      "   group1      group2   meandiff p-adj   lower    upper  reject\n",
      "---------------------------------------------------------------\n",
      "DepartmentA DepartmentB     -7.2    0.0 -10.6236 -3.7764   True\n",
      "DepartmentA DepartmentC    -11.9    0.0 -15.3236 -8.4764   True\n",
      "DepartmentB DepartmentC     -4.7 0.0057  -8.1236 -1.2764   True\n",
      "---------------------------------------------------------------\n"
     ]
    },
    {
     "data": {
      "image/png": "[encoded data removed]",
      "text/plain": [
       "<Figure size 432x288 with 1 Axes>"
      ]
     },
     "metadata": {
      "needs_background": "light"
     },
     "output_type": "display_data"
    }
   ],
   "source": [
    "test=\"Anova_Oneway\"\n",
    "Department_A = [55, 60, 50, 58, 63, 62, 57, 56, 61, 59]\n",
    "Department_B = [50, 52, 48, 49, 55, 53, 51, 54, 47, 50]\n",
    "Department_C = [45, 43, 48, 50, 42, 47, 49, 46, 44, 48]\n",
    "All_test(data1=Department_A,data2=Department_B,data3=Department_C,confi=95,pop_mean=None,test=test)"
   ]
  },
  {
   "cell_type": "code",
   "execution_count": null,
   "id": "1835bdc3",
   "metadata": {},
   "outputs": [],
   "source": []
  },
  {
   "cell_type": "markdown",
   "id": "092b3070",
   "metadata": {},
   "source": [
    "# ANOVA Test: Two-way"
   ]
  },
  {
   "cell_type": "markdown",
   "id": "35ace96d",
   "metadata": {},
   "source": [
    "Suppose a company has three departments (A, B, and C) and wants to test whether there is a significant difference in salaries between the departments, while also considering the effect of gender. The company selects\n",
    "10 employees randomly from each department and records their salaries and gender.\n",
    "\n",
    "Department A:\n",
    "Male: [$55k, $60k, $50k, $58k, $63k]\n",
    "Female: [$62k, $57k, $56k, $61k, $59k]\n",
    "\n",
    "Department B:\n",
    "Male: [$50k, $52k, $48k, $49k, $55k]\n",
    "Female: [$53k, $51k, $54k, $47k, $50k]\n",
    "\n",
    "Department C:\n",
    "Male: [$45k, $43k, $48k, $50k, $42k]\n",
    "Female: $47k, $49k, $46k, $44k, $48k]\n",
    "\n",
    "● State the null and alternative hypotheses.\n",
    "● Use Two-Way ANOVA-test to determine whether there is a significant\n",
    "  difference in salaries between the three departments.\n",
    "● Interpret the results\n"
   ]
  },
  {
   "cell_type": "raw",
   "id": "b3dc734a",
   "metadata": {},
   "source": [
    "HO:There is no difference among group means\n",
    "H1:At least one group differs significantly from the overall mean of the dependent variable\n"
   ]
  },
  {
   "cell_type": "code",
   "execution_count": 376,
   "id": "cb60e164",
   "metadata": {},
   "outputs": [
    {
     "data": {
      "text/html": [
       "<div>\n",
       "<style scoped>\n",
       "    .dataframe tbody tr th:only-of-type {\n",
       "        vertical-align: middle;\n",
       "    }\n",
       "\n",
       "    .dataframe tbody tr th {\n",
       "        vertical-align: top;\n",
       "    }\n",
       "\n",
       "    .dataframe thead th {\n",
       "        text-align: right;\n",
       "    }\n",
       "</style>\n",
       "<table border=\"1\" class=\"dataframe\">\n",
       "  <thead>\n",
       "    <tr style=\"text-align: right;\">\n",
       "      <th></th>\n",
       "      <th>DepartmentA</th>\n",
       "      <th>DepartmentB</th>\n",
       "      <th>DepartmentC</th>\n",
       "    </tr>\n",
       "  </thead>\n",
       "  <tbody>\n",
       "    <tr>\n",
       "      <th>Male</th>\n",
       "      <td>[55, 60, 50, 58, 63]</td>\n",
       "      <td>[50, 52, 48, 49, 55]</td>\n",
       "      <td>[45, 43, 48, 50, 42]</td>\n",
       "    </tr>\n",
       "    <tr>\n",
       "      <th>Female</th>\n",
       "      <td>[62, 57, 56, 61, 59]</td>\n",
       "      <td>[53, 51, 54, 47, 50]</td>\n",
       "      <td>[47, 49, 46, 44, 48]</td>\n",
       "    </tr>\n",
       "  </tbody>\n",
       "</table>\n",
       "</div>"
      ],
      "text/plain": [
       "                 DepartmentA           DepartmentB           DepartmentC\n",
       "Male    [55, 60, 50, 58, 63]  [50, 52, 48, 49, 55]  [45, 43, 48, 50, 42]\n",
       "Female  [62, 57, 56, 61, 59]  [53, 51, 54, 47, 50]  [47, 49, 46, 44, 48]"
      ]
     },
     "execution_count": 376,
     "metadata": {},
     "output_type": "execute_result"
    }
   ],
   "source": [
    "mydict={\"DepartmentA\":{\"Male\": [55, 60,50, 58, 63],\n",
    "     \"Female\":  [62, 57, 56, 61, 59]},\n",
    "\"DepartmentB\":{\"Male\": [50, 52, 48,49, 55],\n",
    "     \"Female\": [53, 51, 54, 47, 50]},\n",
    "\"DepartmentC\":{\"Male\":[45, 43, 48, 50, 42],\n",
    "     \"Female\": [47, 49, 46, 44, 48]}}\n",
    "data=pd.DataFrame(mydict)\n",
    "data\n"
   ]
  },
  {
   "cell_type": "markdown",
   "id": "3c1eea19",
   "metadata": {},
   "source": [
    "### Anova-twoway with interaction between factors"
   ]
  },
  {
   "cell_type": "code",
   "execution_count": 377,
   "id": "35a70a0c",
   "metadata": {},
   "outputs": [
    {
     "data": {
      "text/html": [
       "<div>\n",
       "<style scoped>\n",
       "    .dataframe tbody tr th:only-of-type {\n",
       "        vertical-align: middle;\n",
       "    }\n",
       "\n",
       "    .dataframe tbody tr th {\n",
       "        vertical-align: top;\n",
       "    }\n",
       "\n",
       "    .dataframe thead th {\n",
       "        text-align: right;\n",
       "    }\n",
       "</style>\n",
       "<table border=\"1\" class=\"dataframe\">\n",
       "  <thead>\n",
       "    <tr style=\"text-align: right;\">\n",
       "      <th></th>\n",
       "      <th>sum_sq</th>\n",
       "      <th>df</th>\n",
       "      <th>F</th>\n",
       "      <th>PR(&gt;F)</th>\n",
       "    </tr>\n",
       "  </thead>\n",
       "  <tbody>\n",
       "    <tr>\n",
       "      <th>C(Gender)</th>\n",
       "      <td>8.533333</td>\n",
       "      <td>1.0</td>\n",
       "      <td>0.833876</td>\n",
       "      <td>3.702368e-01</td>\n",
       "    </tr>\n",
       "    <tr>\n",
       "      <th>C(Department)</th>\n",
       "      <td>718.466667</td>\n",
       "      <td>2.0</td>\n",
       "      <td>35.104235</td>\n",
       "      <td>7.472321e-08</td>\n",
       "    </tr>\n",
       "    <tr>\n",
       "      <th>C(Gender):C(Department)</th>\n",
       "      <td>3.266667</td>\n",
       "      <td>2.0</td>\n",
       "      <td>0.159609</td>\n",
       "      <td>8.533743e-01</td>\n",
       "    </tr>\n",
       "    <tr>\n",
       "      <th>Residual</th>\n",
       "      <td>245.600000</td>\n",
       "      <td>24.0</td>\n",
       "      <td>NaN</td>\n",
       "      <td>NaN</td"
      ],
      "text/plain": [
       "                             sum_sq    df          F        PR(>F)\n",
       "C(Gender)                  8.533333   1.0   0.833876  3.702368e-01\n",
       "C(Department)            718.466667   2.0  35.104235  7.472321e-08\n",
       "C(Gender):C(Department)    3.266667   2.0   0.159609  8.533743e-01\n",
       "Residual                 245.600000  24.0        NaN           NaN"
      ]
     },
     "execution_count": 377,
     "metadata": {},
     "output_type": "execute_result"
    },
    {
     "data": {
      "text/html": [
       "<b>limit_output extension: Maximum message size of 1000 exceeded with 1038 characters</b>"
      ]
     },
     "metadata": {},
     "output_type": "display_data"
    }
   ],
   "source": [
    "test=\"Anova2\"\n",
    "All_test(data1=data,test=test)"
   ]
  },
  {
   "cell_type": "markdown",
   "id": "39463be6",
   "metadata": {},
   "source": [
    "### Anova-twoway without interaction between factors"
   ]
  },
  {
   "cell_type": "code",
   "execution_count": 378,
   "id": "0a68bbd5",
   "metadata": {},
   "outputs": [
    {
     "data": {
      "text/html": [
       "<div>\n",
       "<style scoped>\n",
       "    .dataframe tbody tr th:only-of-type {\n",
       "        vertical-align: middle;\n",
       "    }\n",
       "\n",
       "    .dataframe tbody tr th {\n",
       "        vertical-align: top;\n",
       "    }\n",
       "\n",
       "    .dataframe thead th {\n",
       "        text-align: right;\n",
       "    }\n",
       "</style>\n",
       "<table border=\"1\" class=\"dataframe\">\n",
       "  <thead>\n",
       "    <tr style=\"text-align: right;\">\n",
       "      <th></th>\n",
       "      <th>sum_sq</th>\n",
       "      <th>df</th>\n",
       "      <th>F</th>\n",
       "      <th>PR(&gt;F)</th>\n",
       "    </tr>\n",
       "  </thead>\n",
       "  <tbody>\n",
       "    <tr>\n",
       "      <th>C(Gender)</th>\n",
       "      <td>8.533333</td>\n",
       "      <td>1.0</td>\n",
       "      <td>0.891508</td>\n",
       "      <td>3.537611e-01</td>\n",
       "    </tr>\n",
       "    <tr>\n",
       "      <th>C(Department)</th>\n",
       "      <td>718.466667</td>\n",
       "      <td>2.0</td>\n",
       "      <td>37.530405</td>\n",
       "      <td>2.163105e-08</td>\n",
       "    </tr>\n",
       "    <tr>\n",
       "      <th>Residual</th>\n",
       "      <td>248.866667</td>\n",
       "      <td>26.0</td>\n",
       "      <td>NaN</td>\n",
       "      <td>NaN</td>\n",
       "    </tr>\n",
       "  </tbody>\n",
       "</table>\n",
       "</div>"
      ],
      "text/plain": [
       "                   sum_sq    df          F        PR(>F)\n",
       "C(Gender)        8.533333   1.0   0.891508  3.537611e-01\n",
       "C(Department)  718.466667   2.0  37.530405  2.163105e-08\n",
       "Residual       248.866667  26.0        NaN           NaN"
      ]
     },
     "execution_count": 378,
     "metadata": {},
     "output_type": "execute_result"
    }
   ],
   "source": [
    "Anova2(data,interaction=0)"
   ]
  },
  {
   "cell_type": "markdown",
   "id": "1a65c3c1",
   "metadata": {},
   "source": [
    "# A/B testing"
   ]
  },
  {
   "cell_type": "markdown",
   "id": "0e90ff4f",
   "metadata": {},
   "source": [
    "A/B testing: Suppose a company has launched a new flavor of soda and wants to test if it has a higher preference than the old flavor. The company conducts a survey with a sample of 30 customers, randomly split into two groups of 15. One group is given the old flavor of soda and the other group is given the new flavor of soda. Each participant rates their preference on a scale of 1 to 10.\n",
    "\n",
    "Old Flavor = [6, 7, 8, 5, 6, 7, 5, 8, 6, 7, 5, 6, 7, 6, 5],\n",
    "New Flavor = [8, 9, 7, 8, 9, 6, 7, 8, 7, 8, 7, 8, 9, 6, 8]\n",
    "\n",
    "● State the null and alternative hypotheses.\n",
    "● difference in preference between the old and new flavors of soda, with a significance level of 0.05\n",
    "● Interpret the results\n"
   ]
  },
  {
   "cell_type": "raw",
   "id": "400be81a",
   "metadata": {},
   "source": [
    "H0: There is no change between new flavor and old flavor\n",
    "H1: There is change between new and old flavor"
   ]
  },
  {
   "cell_type": "code",
   "execution_count": 380,
   "id": "321e704a",
   "metadata": {},
   "outputs": [
    {
     "name": "stdout",
     "output_type": "stream",
     "text": [
      "degrees of freedom 28\n",
      "t calculated value 3.815929867636064\n",
      "t critical value 2.0057459935369497\n",
      "Null Hypothesis is False\n"
     ]
    }
   ],
   "source": [
    "test=\"Two_Sample_Test\"\n",
    "Old_Flavor = [6, 7, 8, 5, 6, 7, 5, 8, 6, 7, 5, 6, 7, 6, 5]\n",
    "New_Flavor = [8, 9, 7, 8, 9, 6, 7, 8, 7, 8, 7, 8, 9, 6, 8]\n",
    "\n",
    "t_value,df=Two_Sample_Test(Old_Flavor,New_Flavor,95)\n",
    "\n",
    "alpha = 0.05\n",
    "t_critical_value = stats.t.ppf(1 - (alpha/2), 53)\n",
    "null_hypothesis = bool(t_critical_value >= t_value >= -t_critical_value)\n",
    "print(\"t calculated value\",t_value)\n",
    "print(\"t critical value\",t_critical_value)\n",
    "if t_critical_value>t_value:\n",
    "    print(\"Null Hypothesis is True\")\n",
    "else:\n",
    "    print(\"Null Hypothesis is False\")"
   ]
  },
  {
   "cell_type": "code",
   "execution_count": 381,
   "id": "a5a55b21",
   "metadata": {},
   "outputs": [
    {
     "data": {
      "image/png": "[encoded data removed]",
      "text/plain": [
       "<Figure size 864x432 with 1 Axes>"
      ]
     },
     "metadata": {
      "needs_background": "light"
     },
     "output_type": "display_data"
    }
   ],
   "source": [
    "data1,data2=Old_Flavor,New_Flavor\n",
    "s = np.std(data2)\n",
    "x = np.mean(data2)\n",
    "n = len(data2)\n",
    "rho = (t_critical_value * s) / np.sqrt(n)\n",
    "conf_int = x - rho, x + rho\n",
    "# Effect size based on Cohen’s d formula.\n",
    "from statsmodels.stats.power import TTestIndPower\n",
    "x1 = np.mean(data1)\n",
    "x2 = np.mean(data2)\n",
    "s1 = np.std(data1)\n",
    "s2 = np.std(data2)\n",
    "n1 = len(data1)\n",
    "n2 = len(data2)\n",
    "\n",
    "s = np.sqrt((((n1 - 1) * (s1 ** 2)) + ((n2 - 1) * (s2 ** 2))) / (n1 + n2 - 2))\n",
    "effect = np.abs((x1 - x2) / s)\n",
    "\n",
    "power = TTestIndPower().power(effect, nobs1=n1, ratio=n2 / n1, df=(n1 + n2 - 2), alpha=alpha)\n",
    "\n",
    "import matplotlib.pyplot as plt\n",
    "\n",
    "# Control\n",
    "fig, ax = plt.subplots(figsize=(12,6))\n",
    "xA = np.linspace(1, x1 + 3*s1, 100)\n",
    "yA = stats.norm(loc=x1, scale=s1).pdf(xA)\n",
    "ax.plot(xA, yA, c='red', label='Old flavour distribution')\n",
    "ax.axvline(x=x1, c='red', alpha=0.5, linestyle='--', label='Old flavour')\n",
    "\n",
    "# Experimental\n",
    "xB = np.linspace(1, x2 + 3*s2, 100)\n",
    "yB = stats.norm(loc=x2, scale=s2).pdf(xB) \n",
    "ax.plot(xB, yB, c='blue', label='New flavour Distribution')\n",
    "ax.axvline(x=x2, c='blue', alpha=0.5, linestyle='--', label='New flavour')\n",
    "\n",
    "# Confidence interval\n",
    "ax.axvline(conf_int[0], c='green', linestyle='--', alpha=0.5)\n",
    "ax.axvline(conf_int[1], c='green', linestyle='--', alpha=0.5, label='Confidence Interval')\n",
    "\n",
    "plt.xlabel('Preference')\n",
    "plt.ylabel('Percent of Preference')\n",
    "plt.title('Preference distribution of the two Groups')\n",
    "plt.legend()\n",
    "plt.show()"
   ]
  },
  {
   "cell_type": "markdown",
   "id": "8d9bb170",
   "metadata": {},
   "source": [
    "# Chi_square"
   ]
  },
  {
   "cell_type": "markdown",
   "id": "239cdf9b",
   "metadata": {},
   "source": [
    "Chi-Square: Suppose we have a hypothesis that a six-sided die is fair, with each side\n",
    "having an equal probability of landing face up. We roll the die 100 times and record the\n",
    "number of times each side appears:\n",
    "Side Observed Frequency\n",
    "1 18\n",
    "2 20\n",
    "3 16\n",
    "4 22\n",
    "5 14\n",
    "6 10\n",
    "Given that the expected probabilities are equal to 1/6, Use the class CHi-Square to\n",
    "estimate the goodness-of-fit through chi-square test to determine whether the observed\n",
    "frequencies are consistent with the expected frequencies under the null hypothesis of a\n",
    "fair die."
   ]
  },
  {
   "cell_type": "raw",
   "id": "66849340",
   "metadata": {},
   "source": [
    "H0: die is fair\n",
    "H1: die is not fair"
   ]
  },
  {
   "cell_type": "code",
   "execution_count": 382,
   "id": "0a51a994",
   "metadata": {},
   "outputs": [],
   "source": [
    "Expected = np.array([100*1/6, 100*1/6, 100*1/6,100*1/6, 100*1/6, 100*1/6])\n",
    "Observed = np.array([18,20,16,22,14,10])\n",
    "data1,data2= Expected,Observed "
   ]
  },
  {
   "cell_type": "code",
   "execution_count": 383,
   "id": "6598fad4",
   "metadata": {},
   "outputs": [
    {
     "name": "stdout",
     "output_type": "stream",
     "text": [
      "lower value: 1.1454762260617692\n",
      "Calculated chisquare: 2.9333333333333322\n",
      "higher value: 12.832501994030027\n",
      "Calculated Chi-squae value in between critical lower and upper value:\n",
      "Test result: True\n"
     ]
    }
   ],
   "source": [
    "All_test(data1,data2,confi=95,pop_mean=5,test=\"Chi_Test\")"
   ]
  },
  {
   "cell_type": "code",
   "execution_count": null,
   "id": "f77e54b0",
   "metadata": {},
   "outputs": [],
   "source": []
  },
  {
   "cell_type": "markdown",
   "id": "f14d2e10",
   "metadata": {},
   "source": [
    "# Extra Anova-Oneway Calculation"
   ]
  },
  {
   "cell_type": "code",
   "execution_count": 384,
   "id": "144874ac",
   "metadata": {},
   "outputs": [],
   "source": [
    "def Anova1_Calculated(df,confi):\n",
    "    dfn=df.shape[1]-1\n",
    "    dfd=df.shape[0]*df.shape[1]-df.shape[1]\n",
    "    means=[i for i in df.mean()]\n",
    "    grand_mean= sum(means)/len(means)\n",
    "    SSB=sum([df.shape[0]*(grand_mean-mean)**2 for mean in means])\n",
    "    MSB= SSB/dfn\n",
    "    df_array=np.array(df)\n",
    "    means=np.array(means)\n",
    "    buff=[]\n",
    "    for i in range(0,df.shape[1]):\n",
    "        buff.append(means[i]-df_array[:,i])\n",
    "        SSW=sum(sum(np.array(buff)**2))\n",
    "        MSW= SSW/dfd\n",
    "    \n",
    "    F=MSB/MSW\n",
    "    \n",
    "    alpha =(100-confi)/100\n",
    "    print(\"F-score:\",F)\n",
    "    U_cri=f.ppf(1-alpha/2,dfn,dfd)\n",
    "    L_cri=f.ppf(alpha/2,dfn,dfd)\n",
    "    \n",
    "    x = np.linspace(f.ppf(0.01, dfn, dfd),f.ppf(0.99, dfn, dfd), 100)\n",
    "    plt.plot(x, f.pdf(x, dfn, dfd),'r-', lw=5, alpha=0.6, label='f pdf')\n",
    "    plt.axvline(x=U_cri, label='Upper Critical value', color='g')\n",
    "    plt.axvline(x=L_cri, label='Lower Critical value ', color='g')\n",
    "    plt.axvline(x=F, label='F-score')\n",
    "    plt.legend()\n",
    "    #U_cri\n",
    "    "
   ]
  },
  {
   "cell_type": "code",
   "execution_count": 385,
   "id": "e04ccea1",
   "metadata": {},
   "outputs": [],
   "source": [
    "a=[25,25,27,30,23,20]\n",
    "b=[30,30,21,24,26,28]\n",
    "c=[18,30,29,29,24,26]\n",
    "#DepartmentA = [55, 60, 50, 58, 63, 62, 57, 56, 61, 59]\n",
    "#DepartmentB = [50, 52, 48, 49, 55, 53, 51, 54, 47, 50]\n",
    "#DepartmentC = [45, 43, 48, 50, 42, 47, 49, 46, 44, 48]\n",
    "#a,b,c=DepartmentA,DepartmentB,DepartmentC\n",
    "list_of_tuples = list(zip(a, b,c))\n",
    "df = pd.DataFrame(list_of_tuples)\n",
    "\n",
    "\n"
   ]
  },
  {
   "cell_type": "code",
   "execution_count": 386,
   "id": "34b850be",
   "metadata": {},
   "outputs": [
    {
     "name": "stdout",
     "output_type": "stream",
     "text": [
      "F-score: 0.23489932885906037\n"
     ]
    },
    {
     "data": {
      "image/png": "[encoded data removed]",
      "text/plain": [
       "<Figure size 432x288 with 1 Axes>"
      ]
     },
     "metadata": {
      "needs_background": "light"
     },
     "output_type": "display_data"
    }
   ],
   "source": [
    "Anova1_Calculated(df,95)"
   ]
  },
  {
   "cell_type": "code",
   "execution_count": 387,
   "id": "02c074bc",
   "metadata": {},
   "outputs": [],
   "source": [
    "#Anova one-way regression approach"
   ]
  },
  {
   "cell_type": "code",
   "execution_count": 388,
   "id": "56fc78dd",
   "metadata": {},
   "outputs": [
    {
     "name": "stdout",
     "output_type": "stream",
     "text": [
      "['DepartmentA', 'DepartmentB', 'DepartmentC']\n",
      "fvalue 0.23489932885905945\n",
      "     Multiple Comparison of Means - Tukey HSD, FWER=0.05     \n",
      "=============================================================\n",
      "   group1      group2   meandiff p-adj   lower  upper  reject\n",
      "-------------------------------------------------------------\n",
      "DepartmentA DepartmentB      1.5 0.7824 -4.2887 7.2887  False\n",
      "DepartmentA DepartmentC      1.0 0.8957 -4.7887 6.7887  False\n",
      "DepartmentB DepartmentC     -0.5 0.9727 -6.2887 5.2887  False\n",
      "-------------------------------------------------------------\n"
     ]
    },
    {
     "data": {
      "image/png": "[encoded data removed]",
      "text/plain": [
       "<Figure size 432x288 with 1 Axes>"
      ]
     },
     "metadata": {
      "needs_background": "light"
     },
     "output_type": "display_data"
    }
   ],
   "source": [
    "All_test(data1=a,data2=b,data3=c,confi=95,pop_mean=None,test=\"Anova_Oneway\")"
   ]
  },
  {
   "cell_type": "code",
   "execution_count": null,
   "id": "827fef32",
   "metadata": {},
   "outputs": [],
   "source": []
  },
  {
   "cell_type": "code",
   "execution_count": null,
   "id": "1fb1c462",
   "metadata": {},
   "outputs": [],
   "source": []
  },
  {
   "cell_type": "code",
   "execution_count": 316,
   "id": "7d31744d",
   "metadata": {},
   "outputs": [],
   "source": []
  },
  {
   "cell_type": "code",
   "execution_count": null,
   "id": "bec582d6",
   "metadata": {},
   "outputs": [],
   "source": []
  }
 ],
 "metadata": {
  "kernelspec": {
   "display_name": "Python 3 (ipykernel)",
   "language": "python",
   "name": "python3"
  },
  "language_info": {
   "codemirror_mode": {
    "name": "ipython",
    "version": 3
   },
   "file_extension": ".py",
   "mimetype": "text/x-python",
   "name": "python",
   "nbconvert_exporter": "python",
   "pygments_lexer": "ipython3",
   "version": "3.7.4"
  },
  "toc": {
   "base_numbering": 1,
   "nav_menu": {},
   "number_sections": true,
   "sideBar": true,
   "skip_h1_title": false,
   "title_cell": "Table of Contents",
   "title_sidebar": "Contents",
   "toc_cell": false,
   "toc_position": {},
   "toc_section_display": true,
   "toc_window_display": false
  }
 },
 "nbformat": 4,
 "nbformat_minor": 5
}
